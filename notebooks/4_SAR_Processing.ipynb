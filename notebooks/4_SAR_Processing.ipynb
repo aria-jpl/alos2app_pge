{
 "cells": [
  {
   "cell_type": "markdown",
   "id": "retained-coaching",
   "metadata": {},
   "source": [
    "This is where we do the ISCE interferogram generation.\n",
    "\n",
    "Reference: https://github.com/aria-jpl/ariamh/blob/alos2/interferogram/alos/create_alos2_ifg.py#L182-L219"
   ]
  },
  {
   "cell_type": "code",
   "execution_count": 1,
   "id": "rough-lodging",
   "metadata": {},
   "outputs": [],
   "source": [
    "from pathlib import Path\n",
    "import rasterio\n",
    "import numpy as np\n",
    "import json\n",
    "from jinja2 import Template\n",
    "import site\n",
    "from subprocess import check_call, check_output\n",
    "import os\n",
    "import sys"
   ]
  },
  {
   "cell_type": "code",
   "execution_count": 2,
   "id": "lesbian-pontiac",
   "metadata": {},
   "outputs": [],
   "source": [
    "## Will be taken care of in papermill script\n",
    "## If not, we must run jupyter from the `notebooks/` directory\n",
    "if not os.environ.get('PGE_DIRECTORY'):\n",
    "    path = Path(os.getcwd()).parents[0]\n",
    "    os.environ['PGE_DIRECTORY'] = str(path.absolute())\n",
    "    assert(path.name == 'alos2app_pge')\n",
    "\n",
    "sys.path.append(os.environ['PGE_DIRECTORY'])\n",
    "from ifg_tools.rio_tools import reproject_arr_to_match_profile\n",
    "PGE_DIRECTORY = os.environ['PGE_DIRECTORY']"
   ]
  },
  {
   "cell_type": "code",
   "execution_count": 4,
   "id": "fifth-entertainment",
   "metadata": {},
   "outputs": [
    {
     "data": {
      "text/plain": [
       "'ALOS2-GUNW-D-153-20150412-20150301-182629-18N-100W-v1_0_0'"
      ]
     },
     "execution_count": 4,
     "metadata": {},
     "output_type": "execute_result"
    }
   ],
   "source": [
    "product_dir = list(Path('.').glob('ALOS2-GUNW-*'))[0]\n",
    "prod_id = product_dir.name\n",
    "prod_id"
   ]
  },
  {
   "cell_type": "code",
   "execution_count": 5,
   "id": "incoming-mission",
   "metadata": {},
   "outputs": [
    {
     "data": {
      "text/plain": [
       "{'reference_metadata': {'slc_id': 'ALOS2047853215-150412',\n",
       "  'production_level': 'WBDR1',\n",
       "  'bbox_xy_coords': [[-99.54163571839928, 21.841270600310185],\n",
       "   [-96.17730760260231, 21.25939696689257],\n",
       "   [-96.843173553836, 18.068982542026124],\n",
       "   [-100.13694111929185, 18.65929018004776]],\n",
       "  'start_time': '2015-04-12T18:26:03.683087',\n",
       "  'stop_time': '2015-04-12T18:26:55.705525',\n",
       "  'absolute_orbit': '04785',\n",
       "  'frame': '3215',\n",
       "  'flight_direction': 'D',\n",
       "  'satellite_name': 'ALOS2',\n",
       "  'source': 'isce_preprocessing',\n",
       "  'track': 153},\n",
       " 'secondary_metadata': {'slc_id': 'ALOS2041643215-150301',\n",
       "  'production_level': 'WBDR1',\n",
       "  'bbox_xy_coords': [[-99.54225234548686, 21.84242172762871],\n",
       "   [-96.17777138358394, 21.260454461136113],\n",
       "   [-96.84383040237188, 18.07008971011115],\n",
       "   [-100.13767953028737, 18.660475516270562]],\n",
       "  'start_time': '2015-03-01T18:26:06.130416',\n",
       "  'stop_time': '2015-03-01T18:26:58.152714',\n",
       "  'absolute_orbit': '04164',\n",
       "  'frame': '3215',\n",
       "  'flight_direction': 'D',\n",
       "  'satellite_name': 'ALOS2',\n",
       "  'source': 'isce_preprocessing',\n",
       "  'track': 153},\n",
       " 'full_ifg_hash': '4db226c12c7e137f7785cbd24b073317',\n",
       " 'dem_type': 'SRTM+v3',\n",
       " 'reference_slc': 'ALOS2047853215-150412',\n",
       " 'secondary_slc': 'ALOS2041643215-150301',\n",
       " 'interferogram_type': 'scansar',\n",
       " 'azimuth_looks': 12,\n",
       " 'range_looks': 30,\n",
       " 'burst_overlap': 85.0,\n",
       " 'filter_strength': 0.6,\n",
       " 'polarization': 'HH',\n",
       " 'sensing_start_time': '2015-04-12T18:26:03.683087',\n",
       " 'sensing_stop_time': '2015-04-12T18:26:55.705525',\n",
       " 'sensing_center_time': '182629',\n",
       " 'reference_date': '2015-04-12',\n",
       " 'secondary_date': '2015-03-01',\n",
       " 'flight_direction': 'D',\n",
       " 'track': 153,\n",
       " 'union_geojson': {'type': 'Polygon',\n",
       "  'coordinates': [[[-96.17796830232892, 21.259511237480126],\n",
       "    [-96.17730760260231, 21.25939696689257],\n",
       "    [-96.843173553836, 18.068982542026124],\n",
       "    [-100.13694111929185, 18.65929018004776],\n",
       "    [-100.13675051187933, 18.66030900005793],\n",
       "    [-100.13767953028737, 18.660475516270562],\n",
       "    [-99.54225234548686, 21.84242172762871],\n",
       "    [-96.17777138358394, 21.260454461136113],\n",
       "    [-96.17796830232892, 21.259511237480126]]]},\n",
       " 'intersection_geojson': {'type': 'Polygon',\n",
       "  'coordinates': [[[-99.54163571839928, 21.841270600310185],\n",
       "    [-96.17796830232892, 21.259511237480126],\n",
       "    [-96.84383040237188, 18.07008971011115],\n",
       "    [-100.13675051187933, 18.66030900005793],\n",
       "    [-99.54163571839928, 21.841270600310185]]]},\n",
       " 'bounds': [-100.13767953028737,\n",
       "  18.068982542026124,\n",
       "  -96.17730760260231,\n",
       "  21.84242172762871],\n",
       " 'longitude_string': '100W',\n",
       " 'latitude_string': '18N'}"
      ]
     },
     "execution_count": 5,
     "metadata": {},
     "output_type": "execute_result"
    }
   ],
   "source": [
    "metadata_path = product_dir/f'{prod_id}.met.json'\n",
    "metadata = json.load(open(metadata_path, 'r'))\n",
    "metadata"
   ]
  },
  {
   "cell_type": "code",
   "execution_count": 6,
   "id": "assured-filling",
   "metadata": {},
   "outputs": [
    {
     "data": {
      "text/plain": [
       "'150412'"
      ]
     },
     "execution_count": 6,
     "metadata": {},
     "output_type": "execute_result"
    }
   ],
   "source": [
    "ref_date_str = metadata['reference_date'].replace('-', '')[2:]\n",
    "ref_date_str"
   ]
  },
  {
   "cell_type": "code",
   "execution_count": 7,
   "id": "national-armstrong",
   "metadata": {},
   "outputs": [
    {
     "data": {
      "text/plain": [
       "PosixPath('ALOS2047853200-150412')"
      ]
     },
     "execution_count": 7,
     "metadata": {},
     "output_type": "execute_result"
    }
   ],
   "source": [
    "reference_dir = list(Path('.').glob(f'ALOS2*{ref_date_str}'))[0]\n",
    "reference_dir"
   ]
  },
  {
   "cell_type": "code",
   "execution_count": 8,
   "id": "synthetic-amateur",
   "metadata": {},
   "outputs": [
    {
     "data": {
      "text/plain": [
       "'150301'"
      ]
     },
     "execution_count": 8,
     "metadata": {},
     "output_type": "execute_result"
    }
   ],
   "source": [
    "sec_date_str = metadata['secondary_date'].replace('-', '')[2:]\n",
    "sec_date_str"
   ]
  },
  {
   "cell_type": "code",
   "execution_count": 9,
   "id": "literary-durham",
   "metadata": {},
   "outputs": [
    {
     "data": {
      "text/plain": [
       "PosixPath('ALOS2041643200-150301')"
      ]
     },
     "execution_count": 9,
     "metadata": {},
     "output_type": "execute_result"
    }
   ],
   "source": [
    "secondary_dir = list(Path('.').glob(f'ALOS2*{sec_date_str}'))[0]\n",
    "secondary_dir"
   ]
  },
  {
   "cell_type": "code",
   "execution_count": 10,
   "id": "million-algeria",
   "metadata": {},
   "outputs": [],
   "source": [
    "with open(f'{PGE_DIRECTORY}/alos2App_processing_template.xml', 'r') as file:\n",
    "    template = Template(file.read())\n"
   ]
  },
  {
   "cell_type": "code",
   "execution_count": 11,
   "id": "extreme-investigation",
   "metadata": {},
   "outputs": [
    {
     "name": "stdout",
     "output_type": "stream",
     "text": [
      "<?xml version=\"1.0\" encoding=\"UTF-8\"?>\n",
      "<alos2App>\n",
      "  <component name=\"alos2insar\">\n",
      "    <property name=\"reference directory\">ALOS2047853200-150412</property>\n",
      "    <property name=\"secondary directory\">ALOS2041643200-150301</property>\n",
      "    <property name=\"reference frames\">[3215]</property>\n",
      "    <property name=\"secondary frames\">[3215]</property>\n",
      "    <property name=\"starting swath\">1</property>\n",
      "    <property name=\"ending swath\">5</property>\n",
      "    <property name=\"reference polarization\">HH</property>\n",
      "    <property name=\"secondary polarization\">HH</property>\n",
      "    <property name=\"dem for coregistration\">preprocess_dem.wgs84</property>\n",
      "    <property name=\"dem for geocoding\">geocode_dem.wgs84</property>\n",
      "    <property name=\"geocode file list\">['filt_*-*_30rlks_168alks.unw', 'filt_*-*_30rlks_168alks.unw.conncomp', 'filt_*-*_30rlks_168alks.int', '*-*_30rlks_168alks.phsig', '*-*_30rlks_168alks.cor', '*-*_30rlks_168alks.los', '*-*_30rlks_168alks.ion']</property>\n",
      "    <property name=\"use GPU\">False</property>\n",
      "    <property name=\"do ionospheric phase estimation\">True</property>\n",
      "    <property name=\"apply ionospheric phase correction\">False</property>\n",
      "    <property name=\"number of range looks 1\">1</property>\n",
      "    <property name=\"number of azimuth looks 1\">14</property>\n",
      "    <property name=\"number of range looks 2\">30</property>\n",
      "    <property name=\"number of azimuth looks 2\">12</property>\n",
      "    <property name=\"geocode bounding box\"></property>\n",
      "    <property name=\"number of range looks ion\">40</property>\n",
      "    <property name=\"number of azimuth looks ion\">16</property>\n",
      "    <property name=\"minimum window size for filtering ionosphere phase\">101</property>\n",
      "    </component>\n",
      "</alos2App>\n"
     ]
    }
   ],
   "source": [
    "alos2_xml = template.render(reference_dir=reference_dir,\n",
    "                            secondary_dir=secondary_dir,\n",
    "                            reference_frames=str([int(metadata['reference_metadata']['frame'])]),\n",
    "                            secondary_frames=str([int(metadata['secondary_metadata']['frame'])]),\n",
    "                            dem_for_geocoding='geocode_dem.wgs84',\n",
    "                            dem_for_coregistration='preprocess_dem.wgs84',\n",
    "                            reference_polarization=metadata['polarization'],\n",
    "                            secondary_polarization=metadata['polarization'],\n",
    "                            starting_swath=1,\n",
    "                            ending_swath=5,\n",
    "                           )\n",
    "print(alos2_xml)"
   ]
  },
  {
   "cell_type": "code",
   "execution_count": 12,
   "id": "legendary-numbers",
   "metadata": {},
   "outputs": [],
   "source": [
    "with open('alos2App.xml', \"w\") as file:\n",
    "    file.write(alos2_xml)"
   ]
  },
  {
   "cell_type": "code",
   "execution_count": 13,
   "id": "opposed-startup",
   "metadata": {},
   "outputs": [
    {
     "data": {
      "text/plain": [
       "'/u/leffe-data2/cmarshak/miniconda3/envs/isce2/lib/python3.8/site-packages/isce/applications/alos2App.py alos2App.xml'"
      ]
     },
     "execution_count": 13,
     "metadata": {},
     "output_type": "execute_result"
    }
   ],
   "source": [
    "isce_apps_path = site.getsitepackages()[0] + '/isce/applications'\n",
    "alos_app_cmd = f'{isce_apps_path}/alos2App.py alos2App.xml'\n",
    "alos_app_cmd"
   ]
  },
  {
   "cell_type": "code",
   "execution_count": 17,
   "id": "wired-notion",
   "metadata": {},
   "outputs": [
    {
     "data": {
      "text/plain": [
       "'/u/leffe-data2/cmarshak/miniconda3/envs/isce2/bin:/u/leffe-data2/cmarshak/miniconda3/bin:/u/leffe-data2/cmarshak/miniconda3/condabin:/usr/lib64/ccache:/usr/local/bin:/usr/bin:/home/cmarshak/bin:/usr/local/sbin:/usr/sbin:/home/cmarshak/bin:/u/leffe-data2/cmarshak/miniconda3/envs/isce2/lib/python3.8/site-packages/isce/applications'"
      ]
     },
     "execution_count": 17,
     "metadata": {},
     "output_type": "execute_result"
    }
   ],
   "source": [
    "if isce_apps_path not in os.environ[\"PATH\"]:\n",
    "    os.environ[\"PATH\"] += f':{isce_apps_path}'\n",
    "os.environ[\"PATH\"]"
   ]
  },
  {
   "cell_type": "markdown",
   "id": "decent-navigator",
   "metadata": {},
   "source": [
    "Let's check that the path was correctly modified."
   ]
  },
  {
   "cell_type": "code",
   "execution_count": 20,
   "id": "expressed-columbus",
   "metadata": {},
   "outputs": [
    {
     "name": "stdout",
     "output_type": "stream",
     "text": [
      "This is the Open Source version of ISCE.\n",
      "Some of the workflows depend on a separate licensed package.\n",
      "To obtain the licensed package, please make a request for ISCE\n",
      "through the website: https://download.jpl.nasa.gov/ops/request/index.cfm.\n",
      "Alternatively, if you are a member, or can become a member of WinSAR\n",
      "you may be able to obtain access to a version of the licensed sofware at\n",
      "https://winsar.unavco.org/software/isce\n",
      "usage: imageMath.py [-h] [-H] -e EQUATION [-o OUT] [-s SCHEME] [-t DTYPE] [-d]\n",
      "                    [-n]\n",
      "imageMath.py: error: the following arguments are required: -e/--eval\n"
     ]
    }
   ],
   "source": [
    "!imageMath.py"
   ]
  },
  {
   "cell_type": "code",
   "execution_count": null,
   "id": "generic-setup",
   "metadata": {},
   "outputs": [],
   "source": [
    "%%time\n",
    "\n",
    "!alos2App.py alos2App.xml >> alos2app_processing.log 2> alos2app_error.log"
   ]
  }
 ],
 "metadata": {
  "kernelspec": {
   "display_name": "Python 3",
   "language": "python",
   "name": "python3"
  },
  "language_info": {
   "codemirror_mode": {
    "name": "ipython",
    "version": 3
   },
   "file_extension": ".py",
   "mimetype": "text/x-python",
   "name": "python",
   "nbconvert_exporter": "python",
   "pygments_lexer": "ipython3",
   "version": "3.8.3"
  }
 },
 "nbformat": 4,
 "nbformat_minor": 5
}
