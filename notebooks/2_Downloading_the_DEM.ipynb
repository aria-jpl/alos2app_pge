{
 "cells": [
  {
   "cell_type": "markdown",
   "id": "smart-copper",
   "metadata": {},
   "source": [
    "In this notebook, we do the following:\n",
    "\n",
    "1. Download the DEM that match the (union) of the bounds of the SLC data determined previously.\n",
    "2. Downsample the DEM for geocoding\n",
    "\n",
    "There are some minor details that are important as well. Since ISCE2 `dem.py` requires integer degrees for the bounding box, we have to overestimate the extent and then clip the raster.\n",
    "\n",
    "ISCE2 is very particular about the DEM type it requires. So we have to create a VRT and then run `fixImageXML`. Not sure as to why, but it works after this."
   ]
  },
  {
   "cell_type": "code",
   "execution_count": 2,
   "id": "continuing-cornwall",
   "metadata": {},
   "outputs": [],
   "source": [
    "from pathlib import Path\n",
    "import rasterio\n",
    "import numpy as np\n",
    "import json\n",
    "import site\n",
    "import sys\n",
    "import os\n",
    "from subprocess import check_call\n",
    "from rasterio.enums import Resampling"
   ]
  },
  {
   "cell_type": "code",
   "execution_count": 3,
   "id": "analyzed-shadow",
   "metadata": {},
   "outputs": [],
   "source": [
    "## Will be taken care of in papermill script\n",
    "## If not, we must run jupyter from the `notebooks/` directory\n",
    "if not os.environ.get('PGE_DIRECTORY'):\n",
    "    path = Path(os.getcwd()).parents[0]\n",
    "    os.environ['PGE_DIRECTORY'] = str(path.absolute())\n",
    "    assert(path.name == 'alos2app_pge')\n",
    "\n",
    "sys.path.append(os.environ['PGE_DIRECTORY'])\n",
    "from ifg_tools.rio_tools import reproject_arr_to_match_profile"
   ]
  },
  {
   "cell_type": "markdown",
   "id": "continental-expense",
   "metadata": {},
   "source": [
    "# Get Settings"
   ]
  },
  {
   "cell_type": "code",
   "execution_count": 2,
   "id": "first-destiny",
   "metadata": {},
   "outputs": [],
   "source": [
    "from ifg_tools.UrlUtils import UrlUtils\n",
    "\n",
    "uu = UrlUtils()"
   ]
  },
  {
   "cell_type": "markdown",
   "id": "serious-brunei",
   "metadata": {},
   "source": [
    "# Read Metdata"
   ]
  },
  {
   "cell_type": "code",
   "execution_count": 3,
   "id": "congressional-cedar",
   "metadata": {},
   "outputs": [
    {
     "data": {
      "text/plain": [
       "'ALOS2-GUNW-D-153-20150412-20150301-182629-18N-100W-v1_0_0'"
      ]
     },
     "execution_count": 3,
     "metadata": {},
     "output_type": "execute_result"
    }
   ],
   "source": [
    "product_dir = list(Path('.').glob('ALOS2-GUNW-*'))[0]\n",
    "prod_id = product_dir.name\n",
    "prod_id"
   ]
  },
  {
   "cell_type": "code",
   "execution_count": 4,
   "id": "invisible-logan",
   "metadata": {},
   "outputs": [
    {
     "data": {
      "text/plain": [
       "{'reference_metadata': {'slc_id': 'ALOS2047853215-150412',\n",
       "  'production_level': 'WBDR1',\n",
       "  'bbox_xy_coords': [[-99.54163571839928, 21.841270600310185],\n",
       "   [-96.17730760260231, 21.25939696689257],\n",
       "   [-96.843173553836, 18.068982542026124],\n",
       "   [-100.13694111929185, 18.65929018004776]],\n",
       "  'start_time': '2015-04-12T18:26:03.683087',\n",
       "  'stop_time': '2015-04-12T18:26:55.705525',\n",
       "  'absolute_orbit': '04785',\n",
       "  'frame': '3215',\n",
       "  'flight_direction': 'D',\n",
       "  'satellite_name': 'ALOS2',\n",
       "  'source': 'isce_preprocessing',\n",
       "  'track': 153},\n",
       " 'secondary_metadata': {'slc_id': 'ALOS2041643215-150301',\n",
       "  'production_level': 'WBDR1',\n",
       "  'bbox_xy_coords': [[-99.54225234548686, 21.84242172762871],\n",
       "   [-96.17777138358394, 21.260454461136113],\n",
       "   [-96.84383040237188, 18.07008971011115],\n",
       "   [-100.13767953028737, 18.660475516270562]],\n",
       "  'start_time': '2015-03-01T18:26:06.130416',\n",
       "  'stop_time': '2015-03-01T18:26:58.152714',\n",
       "  'absolute_orbit': '04164',\n",
       "  'frame': '3215',\n",
       "  'flight_direction': 'D',\n",
       "  'satellite_name': 'ALOS2',\n",
       "  'source': 'isce_preprocessing',\n",
       "  'track': 153},\n",
       " 'full_ifg_hash': '4db226c12c7e137f7785cbd24b073317',\n",
       " 'dem_type': 'SRTM+v3',\n",
       " 'reference_slc': 'ALOS2047853215-150412',\n",
       " 'secondary_slc': 'ALOS2041643215-150301',\n",
       " 'interferogram_type': 'scansar',\n",
       " 'azimuth_looks': 12,\n",
       " 'range_looks': 30,\n",
       " 'burst_overlap': 85.0,\n",
       " 'filter_strength': 0.6,\n",
       " 'polarization': 'HH',\n",
       " 'sensing_start_time': '2015-04-12T18:26:03.683087',\n",
       " 'sensing_stop_time': '2015-04-12T18:26:55.705525',\n",
       " 'sensing_center_time': '182629',\n",
       " 'reference_date': '2015-04-12',\n",
       " 'secondary_date': '2015-03-01',\n",
       " 'flight_direction': 'D',\n",
       " 'track': 153,\n",
       " 'union_geojson': {'type': 'Polygon',\n",
       "  'coordinates': [[[-96.17796830232892, 21.259511237480126],\n",
       "    [-96.17730760260231, 21.25939696689257],\n",
       "    [-96.843173553836, 18.068982542026124],\n",
       "    [-100.13694111929185, 18.65929018004776],\n",
       "    [-100.13675051187933, 18.66030900005793],\n",
       "    [-100.13767953028737, 18.660475516270562],\n",
       "    [-99.54225234548686, 21.84242172762871],\n",
       "    [-96.17777138358394, 21.260454461136113],\n",
       "    [-96.17796830232892, 21.259511237480126]]]},\n",
       " 'intersection_geojson': {'type': 'Polygon',\n",
       "  'coordinates': [[[-99.54163571839928, 21.841270600310185],\n",
       "    [-96.17796830232892, 21.259511237480126],\n",
       "    [-96.84383040237188, 18.07008971011115],\n",
       "    [-100.13675051187933, 18.66030900005793],\n",
       "    [-99.54163571839928, 21.841270600310185]]]},\n",
       " 'bounds': [-100.13767953028737,\n",
       "  18.068982542026124,\n",
       "  -96.17730760260231,\n",
       "  21.84242172762871],\n",
       " 'longitude_string': '100W',\n",
       " 'latitude_string': '18N'}"
      ]
     },
     "execution_count": 4,
     "metadata": {},
     "output_type": "execute_result"
    }
   ],
   "source": [
    "metadata_path = product_dir/f'{prod_id}.met.json'\n",
    "metadata = json.load(open(metadata_path, 'r'))\n",
    "metadata"
   ]
  },
  {
   "cell_type": "markdown",
   "id": "changing-seattle",
   "metadata": {},
   "source": [
    "# Download SRTMv3 DEM"
   ]
  },
  {
   "cell_type": "code",
   "execution_count": 5,
   "id": "following-professor",
   "metadata": {},
   "outputs": [],
   "source": [
    "isce_apps_path = site.getsitepackages()[0] + '/isce/applications'"
   ]
  },
  {
   "cell_type": "code",
   "execution_count": 6,
   "id": "rational-classic",
   "metadata": {},
   "outputs": [
    {
     "data": {
      "text/plain": [
       "[-100.13767953028737,\n",
       " 18.068982542026124,\n",
       " -96.17730760260231,\n",
       " 21.84242172762871]"
      ]
     },
     "execution_count": 6,
     "metadata": {},
     "output_type": "execute_result"
    }
   ],
   "source": [
    "bounds = metadata['bounds']\n",
    "bounds"
   ]
  },
  {
   "cell_type": "code",
   "execution_count": 7,
   "id": "union-wallet",
   "metadata": {},
   "outputs": [
    {
     "data": {
      "text/plain": [
       "'18 22 -101 -96'"
      ]
     },
     "execution_count": 7,
     "metadata": {},
     "output_type": "execute_result"
    }
   ],
   "source": [
    "bounds_snwe = [bounds[k] for k in [1, 3, 0, 2]]\n",
    "bounds_snwe = [np.floor(bounds_snwe[0]), np.ceil(bounds_snwe[1]),\n",
    "               np.floor(bounds_snwe[2]), np.ceil(bounds_snwe[3]),\n",
    "              ]\n",
    "bounds_snwe = list(map(lambda x: f'{x:1.0f}', bounds_snwe))\n",
    "bounds_snwe = ' '.join(bounds_snwe)\n",
    "bounds_snwe"
   ]
  },
  {
   "cell_type": "code",
   "execution_count": 8,
   "id": "noticed-italian",
   "metadata": {},
   "outputs": [],
   "source": [
    "dem_url = uu['ARIA_DEM_URL']\n",
    "dem_user = uu['ARIA_DEM_U']\n",
    "dem_pass = uu['ARIA_DEM_P']\n",
    "\n",
    "dem_cmd = [f\"{isce_apps_path}/dem.py\", \n",
    "           \"-a\",\n",
    "           \"stitch\", \n",
    "           \"-b\", \n",
    "           bounds_snwe,\n",
    "           \"-k\", \n",
    "           \"-s\", \"1\", \n",
    "           \"-f\", \n",
    "           \"-x\", \n",
    "           \"-c\", \n",
    "           \"-n\", dem_user, \n",
    "           \"-w\", dem_pass,\n",
    "           \"-u\", dem_url\n",
    "        ]\n",
    "dem_cmd_line = \" \".join(dem_cmd)"
   ]
  },
  {
   "cell_type": "code",
   "execution_count": 9,
   "id": "floppy-patrol",
   "metadata": {},
   "outputs": [
    {
     "name": "stdout",
     "output_type": "stream",
     "text": [
      "CPU times: user 7.69 ms, sys: 11.2 ms, total: 18.9 ms\n",
      "Wall time: 52.1 s\n"
     ]
    },
    {
     "data": {
      "text/plain": [
       "0"
      ]
     },
     "execution_count": 9,
     "metadata": {},
     "output_type": "execute_result"
    }
   ],
   "source": [
    "%%time\n",
    "\n",
    "check_call(dem_cmd_line, shell=True)"
   ]
  },
  {
   "cell_type": "markdown",
   "id": "later-tourism",
   "metadata": {},
   "source": [
    "## Inspect the DEM"
   ]
  },
  {
   "cell_type": "code",
   "execution_count": 10,
   "id": "known-genealogy",
   "metadata": {},
   "outputs": [
    {
     "data": {
      "text/plain": [
       "PosixPath('demLat_N18_N22_Lon_W101_W096.dem.wgs84')"
      ]
     },
     "execution_count": 10,
     "metadata": {},
     "output_type": "execute_result"
    }
   ],
   "source": [
    "preprocess_dem_file = list(Path('.').glob(\"*.dem.wgs84\"))[0]\n",
    "preprocess_dem_file"
   ]
  },
  {
   "cell_type": "code",
   "execution_count": 11,
   "id": "verified-munich",
   "metadata": {},
   "outputs": [
    {
     "data": {
      "text/plain": [
       "{'driver': 'VRT', 'dtype': 'int16', 'nodata': None, 'width': 18000, 'height': 14400, 'count': 1, 'crs': CRS.from_epsg(4326), 'transform': Affine(0.0002777777777777778, 0.0, -101.0,\n",
       "       0.0, -0.0002777777777777778, 22.0), 'tiled': False}"
      ]
     },
     "execution_count": 11,
     "metadata": {},
     "output_type": "execute_result"
    }
   ],
   "source": [
    "with rasterio.open(f'{preprocess_dem_file}.vrt') as ds:\n",
    "    dem_profile = ds.profile\n",
    "    \n",
    "dem_profile"
   ]
  },
  {
   "cell_type": "markdown",
   "id": "fewer-baker",
   "metadata": {},
   "source": [
    "# Fix Image XML"
   ]
  },
  {
   "cell_type": "code",
   "execution_count": 12,
   "id": "useful-client",
   "metadata": {},
   "outputs": [
    {
     "data": {
      "text/plain": [
       "'/u/leffe-data2/cmarshak/miniconda3/envs/isce2/lib/python3.8/site-packages/isce/applications/fixImageXml.py -i demLat_N18_N22_Lon_W101_W096.dem.wgs84 --full'"
      ]
     },
     "execution_count": 12,
     "metadata": {},
     "output_type": "execute_result"
    }
   ],
   "source": [
    "fix_cmd = [f\"{isce_apps_path}/fixImageXml.py\",\n",
    "           \"-i\", str(preprocess_dem_file), \n",
    "           \"--full\"\n",
    "           ]\n",
    "fix_cmd_line = \" \".join(fix_cmd)\n",
    "fix_cmd_line"
   ]
  },
  {
   "cell_type": "code",
   "execution_count": 13,
   "id": "upset-throat",
   "metadata": {},
   "outputs": [
    {
     "data": {
      "text/plain": [
       "0"
      ]
     },
     "execution_count": 13,
     "metadata": {},
     "output_type": "execute_result"
    }
   ],
   "source": [
    "check_call(fix_cmd_line, shell=True)"
   ]
  },
  {
   "cell_type": "markdown",
   "id": "current-cursor",
   "metadata": {},
   "source": [
    "# Translate"
   ]
  },
  {
   "cell_type": "code",
   "execution_count": 16,
   "id": "leading-crisis",
   "metadata": {},
   "outputs": [],
   "source": [
    "DRIVER = 'ISCE'"
   ]
  },
  {
   "cell_type": "code",
   "execution_count": 17,
   "id": "brown-representation",
   "metadata": {},
   "outputs": [
    {
     "data": {
      "text/plain": [
       "{'driver': 'ISCE', 'dtype': 'int16', 'nodata': None, 'width': 18000, 'height': 14400, 'count': 1, 'crs': CRS.from_epsg(4326), 'transform': Affine(0.0002777777777777778, 0.0, -101.0,\n",
       "       0.0, -0.0002777777777777778, 22.0), 'tiled': False}"
      ]
     },
     "execution_count": 17,
     "metadata": {},
     "output_type": "execute_result"
    }
   ],
   "source": [
    "with rasterio.open(preprocess_dem_file) as ds:\n",
    "    dem_profile = ds.profile\n",
    "    dem = ds.read(1)\n",
    "    \n",
    "dem_profile"
   ]
  },
  {
   "cell_type": "code",
   "execution_count": 18,
   "id": "supported-alexander",
   "metadata": {},
   "outputs": [],
   "source": [
    "dem_profile_trans = dem_profile.copy()\n",
    "dem_profile_trans['driver'] = DRIVER"
   ]
  },
  {
   "cell_type": "code",
   "execution_count": 19,
   "id": "sticky-maple",
   "metadata": {},
   "outputs": [],
   "source": [
    "with rasterio.open('preprocess_dem.wgs84', 'w', **dem_profile_trans) as ds:\n",
    "    ds.write(dem, 1)"
   ]
  },
  {
   "cell_type": "markdown",
   "id": "established-possibility",
   "metadata": {},
   "source": [
    "## Downsample DEM\n",
    "\n",
    "Source: https://rasterio.readthedocs.io/en/latest/topics/resampling.html"
   ]
  },
  {
   "cell_type": "code",
   "execution_count": 21,
   "id": "verified-offset",
   "metadata": {},
   "outputs": [],
   "source": [
    "upscale_factor = 1/3.\n",
    "\n",
    "with rasterio.open('preprocess_dem.wgs84') as dataset:\n",
    "    height, width = int(dataset.height * upscale_factor), int(dataset.width * upscale_factor)\n",
    "    out_shape=(dataset.count,\n",
    "               height,\n",
    "               width)\n",
    "    geocode_dem = dataset.read(out_shape=out_shape,\n",
    "                               resampling=Resampling.bilinear)\n",
    "\n",
    "    # scale image transform\n",
    "    transform = dataset.transform * dataset.transform.scale((dataset.width / geocode_dem.shape[-1]),\n",
    "                                                            (dataset.height / geocode_dem.shape[-2])\n",
    "                                                           )"
   ]
  },
  {
   "cell_type": "code",
   "execution_count": 23,
   "id": "bright-marker",
   "metadata": {},
   "outputs": [
    {
     "data": {
      "text/plain": [
       "{'driver': 'ISCE', 'dtype': 'int16', 'nodata': None, 'width': 6000, 'height': 4800, 'count': 1, 'crs': CRS.from_epsg(4326), 'transform': Affine(0.0008333333333333333, 0.0, -101.0,\n",
       "       0.0, -0.0008333333333333333, 22.0), 'tiled': False}"
      ]
     },
     "execution_count": 23,
     "metadata": {},
     "output_type": "execute_result"
    }
   ],
   "source": [
    "geocode_dem_profile = dem_profile_trans.copy()\n",
    "geocode_dem_profile['transform'] = transform\n",
    "geocode_dem_profile['width'] = width\n",
    "geocode_dem_profile['height'] = height\n",
    "geocode_dem_profile"
   ]
  },
  {
   "cell_type": "code",
   "execution_count": 24,
   "id": "brave-scholar",
   "metadata": {},
   "outputs": [],
   "source": [
    "with rasterio.open('geocode_dem.wgs84', 'w', **geocode_dem_profile) as ds:\n",
    "    ds.write(geocode_dem)"
   ]
  },
  {
   "cell_type": "markdown",
   "id": "painful-lounge",
   "metadata": {},
   "source": [
    "# Clip Images\n",
    "\n",
    "Source: https://rasterio.readthedocs.io/en/latest/topics/masking-by-shapefile.html"
   ]
  },
  {
   "cell_type": "markdown",
   "id": "disabled-liver",
   "metadata": {},
   "source": [
    "## Preprocess"
   ]
  },
  {
   "cell_type": "code",
   "execution_count": 25,
   "id": "heated-proposal",
   "metadata": {},
   "outputs": [
    {
     "data": {
      "text/plain": [
       "[{'type': 'Polygon',\n",
       "  'coordinates': [[[-96.17730760260231, 18.068982542026124],\n",
       "    [-96.17730760260231, 21.84242172762871],\n",
       "    [-100.13767953028737, 21.84242172762871],\n",
       "    [-100.13767953028737, 18.068982542026124],\n",
       "    [-96.17730760260231, 18.068982542026124]]]}]"
      ]
     },
     "execution_count": 25,
     "metadata": {},
     "output_type": "execute_result"
    }
   ],
   "source": [
    "import rasterio\n",
    "import rasterio.mask\n",
    "\n",
    "shapes = [json.load(open('bounds.geojson'))]\n",
    "shapes"
   ]
  },
  {
   "cell_type": "code",
   "execution_count": 27,
   "id": "christian-migration",
   "metadata": {},
   "outputs": [],
   "source": [
    "with rasterio.open(\"preprocess_dem.wgs84\") as src:\n",
    "    preprocess_dem_clip, preprocess_dem_clip_transform = rasterio.mask.mask(src, shapes, crop=True)\n",
    "    preprocess_profile = src.meta"
   ]
  },
  {
   "cell_type": "code",
   "execution_count": 28,
   "id": "exposed-contract",
   "metadata": {},
   "outputs": [
    {
     "data": {
      "text/plain": [
       "{'driver': 'ISCE',\n",
       " 'dtype': 'int16',\n",
       " 'nodata': None,\n",
       " 'width': 18000,\n",
       " 'height': 14400,\n",
       " 'count': 1,\n",
       " 'crs': CRS.from_epsg(4326),\n",
       " 'transform': Affine(0.0002777777777777778, 0.0, -101.0,\n",
       "        0.0, -0.0002777777777777778, 22.0)}"
      ]
     },
     "execution_count": 28,
     "metadata": {},
     "output_type": "execute_result"
    }
   ],
   "source": [
    "preprocess_profile"
   ]
  },
  {
   "cell_type": "code",
   "execution_count": 31,
   "id": "boolean-norway",
   "metadata": {},
   "outputs": [],
   "source": [
    "preprocess_profile.update({\"driver\": DRIVER,\n",
    "                           \"height\": preprocess_dem_clip.shape[1],\n",
    "                           \"width\": preprocess_dem_clip.shape[2],\n",
    "                           \"transform\": preprocess_dem_clip_transform})\n",
    "\n",
    "with rasterio.open(\"preprocess_dem.wgs84\", \"w\", **preprocess_profile) as dest:\n",
    "    dest.write(preprocess_dem_clip)"
   ]
  },
  {
   "cell_type": "markdown",
   "id": "synthetic-shame",
   "metadata": {},
   "source": [
    "## Geocode"
   ]
  },
  {
   "cell_type": "code",
   "execution_count": 32,
   "id": "artificial-content",
   "metadata": {},
   "outputs": [],
   "source": [
    "with rasterio.open(\"geocode_dem.wgs84\") as src:\n",
    "    geocode_dem_clip, geocode_dem_clip_transform = rasterio.mask.mask(src, shapes, crop=True)\n",
    "    geocode_profile = src.meta"
   ]
  },
  {
   "cell_type": "code",
   "execution_count": 33,
   "id": "junior-endorsement",
   "metadata": {},
   "outputs": [],
   "source": [
    "geocode_profile.update({\"driver\": DRIVER,\n",
    "                        \"height\": geocode_dem_clip.shape[1],\n",
    "                        \"width\": geocode_dem_clip.shape[2],\n",
    "                        \"transform\": geocode_dem_clip_transform})\n",
    "\n",
    "with rasterio.open(\"geocode_dem.wgs84\", \"w\", **geocode_profile) as dest:\n",
    "    dest.write(geocode_dem_clip)"
   ]
  },
  {
   "cell_type": "markdown",
   "id": "removable-breeding",
   "metadata": {},
   "source": [
    "# Build VRT"
   ]
  },
  {
   "cell_type": "code",
   "execution_count": 35,
   "id": "virtual-architect",
   "metadata": {},
   "outputs": [
    {
     "name": "stdout",
     "output_type": "stream",
     "text": [
      "0...10...20...30...40...50...60...70...80...90...100 - done.\r\n"
     ]
    }
   ],
   "source": [
    "!gdalbuildvrt geocode_dem.wgs84.vrt geocode_dem.wgs84"
   ]
  },
  {
   "cell_type": "code",
   "execution_count": 36,
   "id": "excess-cover",
   "metadata": {},
   "outputs": [
    {
     "name": "stdout",
     "output_type": "stream",
     "text": [
      "0...10...20...30...40...50...60...70...80...90...100 - done.\r\n"
     ]
    }
   ],
   "source": [
    "!gdalbuildvrt preprocess_dem.wgs84.vrt preprocess_dem.wgs84"
   ]
  },
  {
   "cell_type": "code",
   "execution_count": 37,
   "id": "adjacent-printing",
   "metadata": {},
   "outputs": [
    {
     "data": {
      "text/plain": [
       "'/u/leffe-data2/cmarshak/miniconda3/envs/isce2/lib/python3.8/site-packages/isce/applications/fixImageXml.py -i preprocess_dem.wgs84 --full'"
      ]
     },
     "execution_count": 37,
     "metadata": {},
     "output_type": "execute_result"
    }
   ],
   "source": [
    "fix_cmd = [f\"{isce_apps_path}/fixImageXml.py\",\n",
    "           \"-i\", 'preprocess_dem.wgs84', \n",
    "           \"--full\"\n",
    "           ]\n",
    "fix_cmd_line = \" \".join(fix_cmd)\n",
    "fix_cmd_line"
   ]
  },
  {
   "cell_type": "code",
   "execution_count": 38,
   "id": "marine-listening",
   "metadata": {},
   "outputs": [
    {
     "data": {
      "text/plain": [
       "0"
      ]
     },
     "execution_count": 38,
     "metadata": {},
     "output_type": "execute_result"
    }
   ],
   "source": [
    "check_call(fix_cmd_line, shell=True)"
   ]
  },
  {
   "cell_type": "code",
   "execution_count": 39,
   "id": "amino-helmet",
   "metadata": {},
   "outputs": [
    {
     "data": {
      "text/plain": [
       "'/u/leffe-data2/cmarshak/miniconda3/envs/isce2/lib/python3.8/site-packages/isce/applications/fixImageXml.py -i geocode_dem.wgs84 --full'"
      ]
     },
     "execution_count": 39,
     "metadata": {},
     "output_type": "execute_result"
    }
   ],
   "source": [
    "fix_cmd = [f\"{isce_apps_path}/fixImageXml.py\",\n",
    "           \"-i\", 'geocode_dem.wgs84', \n",
    "           \"--full\"\n",
    "           ]\n",
    "fix_cmd_line = \" \".join(fix_cmd)\n",
    "fix_cmd_line"
   ]
  },
  {
   "cell_type": "code",
   "execution_count": 40,
   "id": "descending-caution",
   "metadata": {},
   "outputs": [
    {
     "data": {
      "text/plain": [
       "0"
      ]
     },
     "execution_count": 40,
     "metadata": {},
     "output_type": "execute_result"
    }
   ],
   "source": [
    "check_call(fix_cmd_line, shell=True)"
   ]
  },
  {
   "cell_type": "markdown",
   "id": "expired-episode",
   "metadata": {},
   "source": [
    "# Remove Old DEM Files"
   ]
  },
  {
   "cell_type": "code",
   "execution_count": 34,
   "id": "considered-compilation",
   "metadata": {},
   "outputs": [
    {
     "data": {
      "text/plain": [
       "[PosixPath('demLat_N18_N22_Lon_W101_W096.dem'),\n",
       " PosixPath('demLat_N18_N22_Lon_W101_W096.dem.wgs84.xml'),\n",
       " PosixPath('demLat_N18_N22_Lon_W101_W096.dem.wgs84.vrt'),\n",
       " PosixPath('demLat_N18_N22_Lon_W101_W096.dem.xml'),\n",
       " PosixPath('demLat_N18_N22_Lon_W101_W096.dem.wgs84'),\n",
       " PosixPath('demLat_N18_N22_Lon_W101_W096.dem.vrt')]"
      ]
     },
     "execution_count": 34,
     "metadata": {},
     "output_type": "execute_result"
    }
   ],
   "source": [
    "demLat_files = list(Path('.').glob('demLat_*'))\n",
    "demLat_files"
   ]
  },
  {
   "cell_type": "code",
   "execution_count": 31,
   "id": "detected-cable",
   "metadata": {},
   "outputs": [],
   "source": [
    "for path in demLat_files:\n",
    "    path.unlink()"
   ]
  }
 ],
 "metadata": {
  "kernelspec": {
   "display_name": "Python 3",
   "language": "python",
   "name": "python3"
  },
  "language_info": {
   "codemirror_mode": {
    "name": "ipython",
    "version": 3
   },
   "file_extension": ".py",
   "mimetype": "text/x-python",
   "name": "python",
   "nbconvert_exporter": "python",
   "pygments_lexer": "ipython3",
   "version": "3.8.3"
  }
 },
 "nbformat": 4,
 "nbformat_minor": 5
}
