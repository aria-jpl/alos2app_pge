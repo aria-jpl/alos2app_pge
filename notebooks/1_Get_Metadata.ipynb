{
 "cells": [
  {
   "cell_type": "markdown",
   "metadata": {},
   "source": [
    "In this notebook, we get the metadata from the SLCs that will be used for processing and in the Elastic Search Databases.\n",
    "\n",
    "Most importantly, we obtain the bounding box and polygon of the interferogram."
   ]
  },
  {
   "cell_type": "code",
   "execution_count": 1,
   "metadata": {},
   "outputs": [
    {
     "name": "stdout",
     "output_type": "stream",
     "text": [
      "This is the Open Source version of ISCE.\n",
      "Some of the workflows depend on a separate licensed package.\n",
      "To obtain the licensed package, please make a request for ISCE\n",
      "through the website: https://download.jpl.nasa.gov/ops/request/index.cfm.\n",
      "Alternatively, if you are a member, or can become a member of WinSAR\n",
      "you may be able to obtain access to a version of the licensed sofware at\n",
      "https://winsar.unavco.org/software/isce\n",
      "2021-03-24 17:58:28,614 - shapely.geos - DEBUG - Trying `CDLL(libc.so.6)`\n",
      "2021-03-24 17:58:28,617 - shapely.geos - DEBUG - Library path: 'libc.so.6'\n",
      "2021-03-24 17:58:28,618 - shapely.geos - DEBUG - DLL: <CDLL 'libc.so.6', handle 7f0b84fce000 at 0x7f09c3028ca0>\n"
     ]
    }
   ],
   "source": [
    "import isce\n",
    "import isceobj\n",
    "from iscesys.Component.ProductManager import ProductManager as PM\n",
    "from jinja2 import Template\n",
    "from subprocess import check_call, check_output\n",
    "import os\n",
    "import site\n",
    "import zipfile\n",
    "from pathlib import Path\n",
    "import isce, isceobj\n",
    "from isceobj.Alos2Proc.Alos2ProcPublic import getBboxRdr\n",
    "from shapely.geometry import Polygon, box\n",
    "import json\n",
    "import hashlib\n",
    "import dateparser\n",
    "import datetime\n",
    "import sys"
   ]
  },
  {
   "cell_type": "code",
   "execution_count": 2,
   "metadata": {},
   "outputs": [
    {
     "name": "stdout",
     "output_type": "stream",
     "text": [
      "2021-03-24 17:58:28,832 - rasterio.session - DEBUG - Could not import boto3, continuing with reduced functionality.\n",
      "2021-03-24 17:58:28,853 - fiona.env - DEBUG - Entering env context: <fiona.env.Env object at 0x7f0b608f26d0>\n",
      "2021-03-24 17:58:28,854 - fiona.env - DEBUG - Starting outermost env\n",
      "2021-03-24 17:58:28,855 - fiona.env - DEBUG - No GDAL environment exists\n",
      "2021-03-24 17:58:28,855 - fiona.env - DEBUG - New GDAL environment <fiona._env.GDALEnv object at 0x7f0b605b7970> created\n",
      "2021-03-24 17:58:28,856 - fiona._env - DEBUG - Logging error handler pushed.\n",
      "2021-03-24 17:58:28,860 - fiona._env - DEBUG - All drivers registered.\n",
      "2021-03-24 17:58:28,860 - fiona._env - DEBUG - GDAL_DATA found in environment: '/u/leffe-data2/cmarshak/miniconda3/envs/isce2/share/gdal'.\n",
      "2021-03-24 17:58:28,861 - fiona._env - DEBUG - PROJ_LIB found in environment: '/u/leffe-data2/cmarshak/miniconda3/envs/isce2/share/proj'.\n",
      "2021-03-24 17:58:28,862 - fiona._env - DEBUG - Started GDALEnv <fiona._env.GDALEnv object at 0x7f0b605b7970>.\n",
      "2021-03-24 17:58:28,862 - fiona.env - DEBUG - Updated existing <fiona._env.GDALEnv object at 0x7f0b605b7970> with options {}\n",
      "2021-03-24 17:58:28,863 - fiona.env - DEBUG - Entered env context: <fiona.env.Env object at 0x7f0b608f26d0>\n",
      "2021-03-24 17:58:28,865 - fiona.env - DEBUG - Exiting env context: <fiona.env.Env object at 0x7f0b608f26d0>\n",
      "2021-03-24 17:58:28,866 - fiona.env - DEBUG - Cleared existing <fiona._env.GDALEnv object at 0x7f0b605b7970> options\n",
      "2021-03-24 17:58:28,866 - fiona._env - DEBUG - Stopping GDALEnv <fiona._env.GDALEnv object at 0x7f0b605b7970>.\n",
      "2021-03-24 17:58:28,867 - fiona._env - DEBUG - Error handler popped.\n",
      "2021-03-24 17:58:28,868 - fiona._env - DEBUG - Stopped GDALEnv <fiona._env.GDALEnv object at 0x7f0b605b7970>.\n",
      "2021-03-24 17:58:28,868 - fiona.env - DEBUG - Exiting outermost env\n",
      "2021-03-24 17:58:28,869 - fiona.env - DEBUG - Exited env context: <fiona.env.Env object at 0x7f0b608f26d0>\n"
     ]
    }
   ],
   "source": [
    "## Will be taken care of in papermill script\n",
    "## If not, we must run jupyter from the `notebooks/` directory\n",
    "if not os.environ.get('PGE_DIRECTORY'):\n",
    "    path = Path(os.getcwd()).parents[0]\n",
    "    os.environ['PGE_DIRECTORY'] = str(path.absolute())\n",
    "    assert(path.name == 'alos2_scansar_pge')\n",
    "\n",
    "sys.path.append(os.environ['PGE_DIRECTORY'])\n",
    "from ifg_tools.rio_tools import reproject_arr_to_match_profile\n",
    "PGE_DIRECTORY = os.environ['PGE_DIRECTORY']"
   ]
  },
  {
   "cell_type": "code",
   "execution_count": 3,
   "metadata": {},
   "outputs": [],
   "source": [
    "VERSION = 'v1.0.0'"
   ]
  },
  {
   "cell_type": "markdown",
   "metadata": {},
   "source": [
    "# Read the context file"
   ]
  },
  {
   "cell_type": "code",
   "execution_count": 4,
   "metadata": {},
   "outputs": [
    {
     "data": {
      "text/plain": [
       "{'_command': '/home/ops/ariamh/interferogram/alos/create_alos2_ifg.sh',\n",
       " '_disk_usage': '200GB',\n",
       " '_prov': {'wasGeneratedBy': 'task_id:40849cff-93d8-4aef-b1a3-34d607ff4161'},\n",
       " 'azimuth_looks': '12',\n",
       " 'burst_overlap': '85.0',\n",
       " 'container_image_id': 'sha256:2a3dab0bf8f21719d4e90eaafae8ff4b3cb05547917ad361af90649179297fd0',\n",
       " 'container_image_name': 'container-aria-jpl_ariamh:alos2',\n",
       " 'container_image_url': 's3://s3-us-west-2.amazonaws.com/aria-ops-code-bucket/container-aria-jpl_ariamh:alos2.tar.gz',\n",
       " 'container_mappings': {'/home/ops/.aws': ['/home/ops/.aws', 'ro'],\n",
       "  '/home/ops/.netrc': ['/home/ops/.netrc'],\n",
       "  '/home/ops/verdi/etc/settings.conf': '/home/ops/ariamh/conf/settings.conf'},\n",
       " 'container_specification': {'digest': 'sha256:2a3dab0bf8f21719d4e90eaafae8ff4b3cb05547917ad361af90649179297fd0',\n",
       "  'id': 'container-aria-jpl_ariamh:alos2',\n",
       "  'url': 's3://s3-us-west-2.amazonaws.com/aria-ops-code-bucket/container-aria-jpl_ariamh:alos2.tar.gz',\n",
       "  'version': 'alos2'},\n",
       " 'dem_type': 'SRTM+v3',\n",
       " 'filter_strength': '0.6',\n",
       " 'ifg_type': 'scansar',\n",
       " 'job_priority': 5,\n",
       " 'job_specification': {'command': '/home/ops/ariamh/interferogram/alos/create_alos2_ifg.sh',\n",
       "  'container': 'container-aria-jpl_ariamh:alos2',\n",
       "  'disk_usage': '200GB',\n",
       "  'id': 'job-create-alos2-ifg:alos2',\n",
       "  'imported_worker_files': {'/home/ops/.aws': ['/home/ops/.aws', 'ro'],\n",
       "   '/home/ops/.netrc': ['/home/ops/.netrc'],\n",
       "   '/home/ops/verdi/etc/settings.conf': '/home/ops/ariamh/conf/settings.conf'},\n",
       "  'job-version': 'alos2',\n",
       "  'params': [{'destination': 'context',\n",
       "    'name': 'secondary_product',\n",
       "    'value': 'ALOS2041643250-150301.zip'},\n",
       "   {'destination': 'context',\n",
       "    'name': 'reference_product',\n",
       "    'value': 'ALOS2047853250-150412.zip'},\n",
       "   {'destination': 'context', 'name': 'dem_type', 'value': 'SRTM+v3'},\n",
       "   {'destination': 'context', 'name': 'ifg_type', 'value': 'scansar'},\n",
       "   {'destination': 'context', 'name': 'azimuth_looks', 'value': '12'},\n",
       "   {'destination': 'context', 'name': 'range_looks', 'value': '30'},\n",
       "   {'destination': 'context', 'name': 'burst_overlap', 'value': '85.0'},\n",
       "   {'destination': 'context', 'name': 'filter_strength', 'value': '0.6'},\n",
       "   {'destination': 'localize',\n",
       "    'name': 'localize_url',\n",
       "    'value': [{'url': 'https://hysds-v2-dev-product-bucket.s3-us-west-2.amazonaws.com/datasets/ALOS2-SLC/WD1/20150301/ALOS2041643200-150301.zip'},\n",
       "     {'url': 'https://hysds-v2-dev-product-bucket.s3-us-west-2.amazonaws.com/datasets/ALOS2-SLC/WD1/20150412/ALOS2047853200-150412.zip'}]}],\n",
       "  'post': ['hysds.utils.triage'],\n",
       "  'recommended-queues': ['standard_product-s1gunw-topsapp'],\n",
       "  'resource': 'jobspec',\n",
       "  'soft_time_limit': 21600,\n",
       "  'time_limit': 21800},\n",
       " 'localize_urls': [{'url': 'https://hysds-v2-dev-product-bucket.s3-us-west-2.amazonaws.com/datasets/ALOS2-SLC/WD1/20150301/ALOS2041643200-150301.zip'},\n",
       "  {'url': 'https://hysds-v2-dev-product-bucket.s3-us-west-2.amazonaws.com/datasets/ALOS2-SLC/WD1/20150412/ALOS2047853200-150412.zip'}],\n",
       " 'range_looks': '30',\n",
       " 'secondary_product': 'ALOS2041643200-150301.zip',\n",
       " 'reference_product': 'ALOS2047853200-150412.zip',\n",
       " 'tag': 'test'}"
      ]
     },
     "execution_count": 4,
     "metadata": {},
     "output_type": "execute_result"
    }
   ],
   "source": [
    "with open('_context.json') as file:\n",
    "    ctx = json.load(file)   \n",
    "ctx"
   ]
  },
  {
   "cell_type": "markdown",
   "metadata": {},
   "source": [
    "# Unzip SLC Data"
   ]
  },
  {
   "cell_type": "code",
   "execution_count": 5,
   "metadata": {},
   "outputs": [
    {
     "data": {
      "text/plain": [
       "('ALOS2047853200-150412.zip', 'ALOS2041643200-150301.zip')"
      ]
     },
     "execution_count": 5,
     "metadata": {},
     "output_type": "execute_result"
    }
   ],
   "source": [
    "REFERENCE_ZIP = ctx['reference_product']\n",
    "SECONDARY_ZIP = ctx['secondary_product']\n",
    "REFERENCE_ZIP, SECONDARY_ZIP"
   ]
  },
  {
   "cell_type": "code",
   "execution_count": 6,
   "metadata": {},
   "outputs": [],
   "source": [
    "def unzip_vol_led_files_alos2(zip_path: str) -> list:\n",
    "    zip_obj = zipfile.ZipFile(zip_path, 'r')\n",
    "    \n",
    "    def vol_led_filter(zip_info_ob):\n",
    "        file_name = zip_info_ob.filename\n",
    "        prefixes = ['VOL-', 'LED-', 'IMG-HH-']\n",
    "        if any(prefix in file_name for prefix in prefixes):\n",
    "            return True\n",
    "        else:\n",
    "            return False\n",
    "    all_files = zip_obj.filelist\n",
    "    files_to_unzip = list(filter(vol_led_filter, all_files))\n",
    "\n",
    "    def extract(zip_info_ob):\n",
    "        out_dir = Path(zip_path[:-4])\n",
    "        out_dir.mkdir(exist_ok=True)\n",
    "        out_path = out_dir/zip_info_ob.filename\n",
    "        zip_obj.extract(zip_info_ob, path=(out_dir))\n",
    "        return out_path\n",
    "\n",
    "    out = list(map(extract, files_to_unzip))\n",
    "\n",
    "    return out"
   ]
  },
  {
   "cell_type": "code",
   "execution_count": 7,
   "metadata": {},
   "outputs": [
    {
     "name": "stdout",
     "output_type": "stream",
     "text": [
      "CPU times: user 147 µs, sys: 0 ns, total: 147 µs\n",
      "Wall time: 134 µs\n"
     ]
    }
   ],
   "source": [
    "%%time\n",
    "\n",
    "if not Path(REFERENCE_ZIP[:-4]).exists():\n",
    "    unzip_vol_led_files_alos2(REFERENCE_ZIP)"
   ]
  },
  {
   "cell_type": "code",
   "execution_count": 8,
   "metadata": {},
   "outputs": [
    {
     "name": "stdout",
     "output_type": "stream",
     "text": [
      "CPU times: user 72 µs, sys: 83 µs, total: 155 µs\n",
      "Wall time: 140 µs\n"
     ]
    }
   ],
   "source": [
    "%%time\n",
    "\n",
    "if not Path(SECONDARY_ZIP[:-4]).exists():\n",
    "    unzip_vol_led_files_alos2(SECONDARY_ZIP)"
   ]
  },
  {
   "cell_type": "code",
   "execution_count": 9,
   "metadata": {},
   "outputs": [],
   "source": [
    "reference_data_dir = Path(REFERENCE_ZIP[:-4])\n",
    "secondary_data_dir = Path(SECONDARY_ZIP[:-4])\n",
    "\n",
    "assert(reference_data_dir.exists())\n",
    "assert(secondary_data_dir.exists())"
   ]
  },
  {
   "cell_type": "code",
   "execution_count": 10,
   "metadata": {},
   "outputs": [
    {
     "data": {
      "text/plain": [
       "[PosixPath('ALOS2047853200-150412/IMG-HH-ALOS2047853215-150412-WBDR1.1__D-F1'),\n",
       " PosixPath('ALOS2047853200-150412/IMG-HH-ALOS2047853215-150412-WBDR1.1__D-F2'),\n",
       " PosixPath('ALOS2047853200-150412/IMG-HH-ALOS2047853215-150412-WBDR1.1__D-F3'),\n",
       " PosixPath('ALOS2047853200-150412/IMG-HH-ALOS2047853215-150412-WBDR1.1__D-F4'),\n",
       " PosixPath('ALOS2047853200-150412/IMG-HH-ALOS2047853215-150412-WBDR1.1__D-F5')]"
      ]
     },
     "execution_count": 10,
     "metadata": {},
     "output_type": "execute_result"
    }
   ],
   "source": [
    "reference_imgs = sorted(list(reference_data_dir.glob('IMG-*')))\n",
    "reference_imgs"
   ]
  },
  {
   "cell_type": "code",
   "execution_count": 11,
   "metadata": {},
   "outputs": [
    {
     "data": {
      "text/plain": [
       "[PosixPath('ALOS2041643200-150301/IMG-HH-ALOS2041643215-150301-WBDR1.1__D-F1'),\n",
       " PosixPath('ALOS2041643200-150301/IMG-HH-ALOS2041643215-150301-WBDR1.1__D-F2'),\n",
       " PosixPath('ALOS2041643200-150301/IMG-HH-ALOS2041643215-150301-WBDR1.1__D-F3'),\n",
       " PosixPath('ALOS2041643200-150301/IMG-HH-ALOS2041643215-150301-WBDR1.1__D-F4'),\n",
       " PosixPath('ALOS2041643200-150301/IMG-HH-ALOS2041643215-150301-WBDR1.1__D-F5')]"
      ]
     },
     "execution_count": 11,
     "metadata": {},
     "output_type": "execute_result"
    }
   ],
   "source": [
    "secondary_imgs = sorted(list(secondary_data_dir.glob('IMG-*')))\n",
    "secondary_imgs"
   ]
  },
  {
   "cell_type": "markdown",
   "metadata": {},
   "source": [
    "# Preprocess Data with ISCE for Metadata"
   ]
  },
  {
   "cell_type": "code",
   "execution_count": 12,
   "metadata": {},
   "outputs": [],
   "source": [
    "isce_apps_path = site.getsitepackages()[0] + '/isce/applications'"
   ]
  },
  {
   "cell_type": "markdown",
   "metadata": {},
   "source": [
    "## Template ALOS.xml file"
   ]
  },
  {
   "cell_type": "code",
   "execution_count": 13,
   "metadata": {},
   "outputs": [
    {
     "name": "stdout",
     "output_type": "stream",
     "text": [
      "<alos2App>\n",
      "    <component name=\"alos2insar\">\n",
      "        <property name=\"reference directory\">ALOS2041643200-150301</property>\n",
      "        <property name=\"secondary directory\">ALOS2047853200-150412</property>\n",
      "    </component>\n",
      "</alos2App>\n"
     ]
    }
   ],
   "source": [
    "with open(f'{PGE_DIRECTORY}/alos2App_template.xml', 'r') as file:\n",
    "    template = Template(file.read())\n",
    "\n",
    "alos2_xml = template.render(path_to_master_zip='ALOS2041643200-150301',\n",
    "                            path_to_slave_zip='ALOS2047853200-150412')\n",
    "print(alos2_xml)"
   ]
  },
  {
   "cell_type": "code",
   "execution_count": 14,
   "metadata": {},
   "outputs": [],
   "source": [
    "with open('alos2App_metadata.xml', \"w\") as file:\n",
    "    file.write(alos2_xml)"
   ]
  },
  {
   "cell_type": "markdown",
   "metadata": {},
   "source": [
    "## Send preprocess command"
   ]
  },
  {
   "cell_type": "code",
   "execution_count": 15,
   "metadata": {},
   "outputs": [
    {
     "name": "stdout",
     "output_type": "stream",
     "text": [
      "CPU times: user 2.9 ms, sys: 6.72 ms, total: 9.61 ms\n",
      "Wall time: 19 s\n"
     ]
    },
    {
     "data": {
      "text/plain": [
       "b\"This is the Open Source version of ISCE.\\nSome of the workflows depend on a separate licensed package.\\nTo obtain the licensed package, please make a request for ISCE\\nthrough the website: https://download.jpl.nasa.gov/ops/request/index.cfm.\\nAlternatively, if you are a member, or can become a member of WinSAR\\nyou may be able to obtain access to a version of the licensed sofware at\\nhttps://winsar.unavco.org/software/isce\\n2021-03-24 17:58:29,289 - root - WARNING - No valid value given for property 'geocode bounding box'in the input file.\\n    A possible mistake that could cause this problem is\\n    the use of 'unnamed value' style along with other\\n    tags (as opposed to attributes) in a property tag.\\n    The 'unnamed value' style works best is all other\\n    property elements are attributes of the property tag.\\n2021-03-24 17:58:29,290 - isce.insar - INFO - ISCE VERSION = 2.3, RELEASE_SVN_REVISION = 2531,RELEASE_DATE = 20190112, CURRENT_SVN_REVISION = 2531\\nISCE VERSION = 2.3, RELEASE_SVN_REVISION = 2531,RELEASE_DATE = 20190112, CURRENT_SVN_REVISION = 2531\\nStep processing\\nRunning step startup\\nNone\\nThe currently supported sensors are:  ['ALOS2']\\nDumping the application's pickle object _insar to file  PICKLE/startup\\nThe remaining steps are (in order):  ['preprocess', 'download_dem', 'prep_slc', 'slc_offset', 'form_int', 'swath_offset', 'swath_mosaic', 'frame_offset', 'frame_mosaic', 'rdr2geo', 'geo2rdr', 'rdrdem_offset', 'rect_rgoffset', 'diff_int', 'look', 'coherence', 'ion_subband', 'ion_unwrap', 'ion_filt', 'filt', 'unwrap', 'geocode', 'slc_mosaic', 'slc_match', 'dense_offset', 'filt_offset', 'geocode_offset']\\nRunning step preprocess\\nprocessing frame 3215 swath 1\\nprocessing frame 3215 swath 2\\nprocessing frame 3215 swath 3\\nprocessing frame 3215 swath 4\\nprocessing frame 3215 swath 5\\n2021-03-24 17:58:47,926 - isce.alos2insar.runPreprocessor - INFO - \\n####################################################################################################\\n    runPreprocessor\\n----------------------------------------------------------------------------------------------------\\nrunPreprocessor.burst synchronization averaged = 89.2%\\nrunPreprocessor.burst synchronization of frame 3215 swath 1 = 88.5%\\nrunPreprocessor.burst synchronization of frame 3215 swath 2 = 88.7%\\nrunPreprocessor.burst synchronization of frame 3215 swath 3 = 89.2%\\nrunPreprocessor.burst synchronization of frame 3215 swath 4 = 89.4%\\nrunPreprocessor.burst synchronization of frame 3215 swath 5 = 90.1%\\nrunPreprocessor.parallel baseline at center of reference track = -60.90318669067482\\nrunPreprocessor.parallel baseline at lowerleft of reference track = -42.952206369627454\\nrunPreprocessor.parallel baseline at lowerright of reference track = -78.36344479703217\\nrunPreprocessor.parallel baseline at upperleft of reference track = -33.3113392872144\\nrunPreprocessor.parallel baseline at upperright of reference track = -66.95490233091418\\nrunPreprocessor.perpendicular baseline at center of reference track = 95.96277213375895\\nrunPreprocessor.perpendicular baseline at lowerleft of reference track = 110.48397488658783\\nrunPreprocessor.perpendicular baseline at lowerright of reference track = 88.94217635237656\\nrunPreprocessor.perpendicular baseline at upperleft of reference track = 103.54880861147905\\nrunPreprocessor.perpendicular baseline at upperright of reference track = 85.72622000209176\\nrunPreprocessor.reference bounding box = [18.068275425926057, 21.854241467570734, -100.20946388908894, -96.16792339494461]\\nrunPreprocessor.secondary bounding box = [18.06716849488113, 21.85308973803582, -100.20872351761848, -96.16746085990263]\\n####################################################################################################\\nDumping the application's pickle object _insar to file  PICKLE/preprocess\\nThe remaining steps are (in order):  ['download_dem', 'prep_slc', 'slc_offset', 'form_int', 'swath_offset', 'swath_mosaic', 'frame_offset', 'frame_mosaic', 'rdr2geo', 'geo2rdr', 'rdrdem_offset', 'rect_rgoffset', 'diff_int', 'look', 'coherence', 'ion_subband', 'ion_unwrap', 'ion_filt', 'filt', 'unwrap', 'geocode', 'slc_mosaic', 'slc_match', 'dense_offset', 'filt_offset', 'geocode_offset']\\nPolynomial Order: 0 - by - 0 \\n0\\t\\nPolynomial Order: 0 - by - 0 \\n0\\t\\nPolynomial Order: 0 - by - 0 \\n0\\t\\nPolynomial Order: 0 - by - 0 \\n0\\t\\nPolynomial Order: 0 - by - 0 \\n0\\t\\nPolynomial Order: 0 - by - 0 \\n0\\t\\nPolynomial Order: 0 - by - 0 \\n0\\t\\nPolynomial Order: 0 - by - 0 \\n0\\t\\nPolynomial Order: 0 - by - 0 \\n0\\t\\nPolynomial Order: 0 - by - 0 \\n0\\t\\n\""
      ]
     },
     "execution_count": 15,
     "metadata": {},
     "output_type": "execute_result"
    }
   ],
   "source": [
    "%%time\n",
    "\n",
    "alos_app = f'{isce_apps_path}/alos2App.py alos2App_metadata.xml'\n",
    "check_output(f\"{alos_app} --steps --end=preprocess\", shell=True)"
   ]
  },
  {
   "cell_type": "markdown",
   "metadata": {},
   "source": [
    "# Extracting Metadata from Preprocess Files with ISCE\n",
    "\n",
    "This section exposes the ISCE functions used below."
   ]
  },
  {
   "cell_type": "markdown",
   "metadata": {},
   "source": [
    "## Basic Regex"
   ]
  },
  {
   "cell_type": "code",
   "execution_count": 16,
   "metadata": {},
   "outputs": [
    {
     "data": {
      "text/plain": [
       "'IMG-HH-ALOS2041643215-150301-WBDR1'"
      ]
     },
     "execution_count": 16,
     "metadata": {},
     "output_type": "execute_result"
    }
   ],
   "source": [
    "sample_img_name = secondary_imgs[0].name\n",
    "sample_img_name_ = sample_img_name.split('.')[0]\n",
    "sample_img_name_"
   ]
  },
  {
   "cell_type": "code",
   "execution_count": 17,
   "metadata": {},
   "outputs": [
    {
     "data": {
      "text/plain": [
       "('HH', 'ALOS2041643215', '150301')"
      ]
     },
     "execution_count": 17,
     "metadata": {},
     "output_type": "execute_result"
    }
   ],
   "source": [
    "_, pol, orbit_frame_data, date, _ = sample_img_name_.split('-')\n",
    "pol, orbit_frame_data, date"
   ]
  },
  {
   "cell_type": "code",
   "execution_count": 18,
   "metadata": {},
   "outputs": [
    {
     "data": {
      "text/plain": [
       "'3215'"
      ]
     },
     "execution_count": 18,
     "metadata": {},
     "output_type": "execute_result"
    }
   ],
   "source": [
    "orbit_frame_data[:]\n",
    "frame_num = orbit_frame_data[10:]\n",
    "frame_num"
   ]
  },
  {
   "cell_type": "markdown",
   "metadata": {},
   "source": [
    "## Get Track Objects"
   ]
  },
  {
   "cell_type": "code",
   "execution_count": 19,
   "metadata": {},
   "outputs": [],
   "source": [
    "def loadProduct(xmlname):\n",
    "    '''\n",
    "    Load the product using Product Manager.\n",
    "    '''\n",
    "    # from Cunren's code on extracting track data from alos2App\n",
    "\n",
    "    pm = PM()\n",
    "    pm.configure()\n",
    "    obj = pm.loadProduct(xmlname)\n",
    "    return obj\n",
    "\n",
    "def loadTrack(date: str):\n",
    "    '''\n",
    "    date: YYMMDD\n",
    "    '''\n",
    "    # from Cunren's code on extracting track data from alos2App\n",
    "    track = loadProduct(f'{date}.track.xml')\n",
    "    track.frames = []\n",
    "    # This has a weird name eg f*_{frame_num_of_reference_img}\n",
    "    directories = [f for f in Path('.').iterdir() if f.is_dir()]\n",
    "    \n",
    "    def get_frame_directory(path):\n",
    "        path_name = path.name\n",
    "        # make sure directory starts with f\n",
    "        if path_name[0] == 'f':\n",
    "            # and contains `_` and has a valid 4 digit frame num\n",
    "            if '_' in path_name:\n",
    "                frame_num = path_name.split('_')[-1]\n",
    "                if len(frame_num) == 4:\n",
    "                    return True\n",
    "        return False\n",
    "    frame_directories = list(filter(get_frame_directory, directories))\n",
    "\n",
    "    if len(frame_directories) != 1:\n",
    "        raise ValueError('The f*_{frame_num} is not present or there are too many')\n",
    "    frame_directory = frame_directories[0]\n",
    "    \n",
    "    frame_xml = frame_directory/f'{date}.frame.xml'\n",
    "    track.frames.append(loadProduct(frame_xml))\n",
    "    return track\n",
    "\n",
    "def get_alos2_track_obj(img_file_name: str):\n",
    "    assert('IMG-' == img_file_name[:4])\n",
    "    assert('-ALOS2' == img_file_name[6:12])\n",
    "    \n",
    "    img_file_name_ = img_file_name.split('.')[0]\n",
    "    # see: https://github.com/isce-framework/\n",
    "    # isce2-docs/blob/master/Notebooks/UNAVCO_2020/Stripmap/stripmapApp.ipynb\n",
    "    _, pol, orbit_frame_data, date, _ = img_file_name_.split('-')\n",
    "    \n",
    "    orbit_num = orbit_frame_data[5:10]\n",
    "    frame_num = orbit_frame_data[10:]\n",
    "    \n",
    "    track = loadTrack(date)\n",
    "    track.spacecraftName = 'ALOS2'\n",
    "    track.orbitNumber = orbit_num\n",
    "    track.frameNumber = frame_num\n",
    "    \n",
    "    return track"
   ]
  },
  {
   "cell_type": "code",
   "execution_count": 20,
   "metadata": {},
   "outputs": [
    {
     "data": {
      "text/plain": [
       "isceobj.Sensor.MultiMode.Track.Track"
      ]
     },
     "execution_count": 20,
     "metadata": {},
     "output_type": "execute_result"
    }
   ],
   "source": [
    "reference_track = get_alos2_track_obj(reference_imgs[0].name)\n",
    "type(reference_track)"
   ]
  },
  {
   "cell_type": "markdown",
   "metadata": {},
   "source": [
    "## Get Bounding boxes"
   ]
  },
  {
   "cell_type": "code",
   "execution_count": 21,
   "metadata": {},
   "outputs": [],
   "source": [
    "def get_bbox_data_from_ISCE(track: isceobj.Sensor.MultiMode.Track.Track) -> tuple:\n",
    "\n",
    "    pointingDirection = {'right': -1, 'left': 1}\n",
    "    bboxRdr = getBboxRdr(track)\n",
    "    rangeMin = bboxRdr[0]\n",
    "    rangeMax = bboxRdr[1]\n",
    "    azimuthTimeMin = bboxRdr[2]\n",
    "    azimuthTimeMax = bboxRdr[3]\n",
    "\n",
    "    # in image coordinate\n",
    "    # corner 1\n",
    "    llh1 = track.orbit.rdr2geo(azimuthTimeMin, \n",
    "                               rangeMin, height=0, \n",
    "                               side=pointingDirection[track.pointingDirection])\n",
    "    # corner 2\n",
    "    llh2 = track.orbit.rdr2geo(azimuthTimeMin, \n",
    "                               rangeMax, height=0, \n",
    "                               side=pointingDirection[track.pointingDirection])\n",
    "    # corner 3\n",
    "    llh3 = track.orbit.rdr2geo(azimuthTimeMax, \n",
    "                               rangeMin, \n",
    "                               height=0, \n",
    "                               side=pointingDirection[track.pointingDirection])\n",
    "    # corner 4\n",
    "    llh4 = track.orbit.rdr2geo(azimuthTimeMax, \n",
    "                               rangeMax, \n",
    "                               height=0, \n",
    "                               side=pointingDirection[track.pointingDirection])\n",
    "\n",
    "    # re-sort in geography coordinate\n",
    "    if track.passDirection.lower() == 'descending':\n",
    "        if track.pointingDirection.lower() == 'right':\n",
    "            footprint = [llh2, llh1, llh4, llh3]\n",
    "        else:\n",
    "            footprint = [llh1, llh2, llh3, llh4]\n",
    "    else:\n",
    "        if track.pointingDirection.lower() == 'right':\n",
    "            footprint = [llh4, llh3, llh2, llh1]\n",
    "        else:\n",
    "            footprint = [llh3, llh4, llh1, llh2]\n",
    "\n",
    "    # footprint\n",
    "    return footprint, azimuthTimeMin, azimuthTimeMax"
   ]
  },
  {
   "cell_type": "code",
   "execution_count": 22,
   "metadata": {},
   "outputs": [
    {
     "data": {
      "text/plain": [
       "([[21.841270600310185, -99.54163571839928, 0.0],\n",
       "  [21.25939696689257, -96.17730760260231, -7.0842727590705e-10],\n",
       "  [18.65929018004776, -100.13694111929185, -7.083581969289523e-10],\n",
       "  [18.068982542026124, -96.843173553836, -1.4166871582684574e-09]],\n",
       " datetimeType(2015, 4, 12, 18, 26, 3, 683087),\n",
       " datetimeType(2015, 4, 12, 18, 26, 55, 705525))"
      ]
     },
     "execution_count": 22,
     "metadata": {},
     "output_type": "execute_result"
    }
   ],
   "source": [
    "bbox_yxz, sensingStart, sensingEnd = get_bbox_data_from_ISCE(reference_track)\n",
    "bbox_yxz, sensingStart, sensingEnd"
   ]
  },
  {
   "cell_type": "markdown",
   "metadata": {},
   "source": [
    "## Using shapely to inspect the bbox data"
   ]
  },
  {
   "cell_type": "code",
   "execution_count": 23,
   "metadata": {},
   "outputs": [
    {
     "data": {
      "text/plain": [
       "[[-99.54163571839928, 21.841270600310185],\n",
       " [-96.17730760260231, 21.25939696689257],\n",
       " [-96.843173553836, 18.068982542026124],\n",
       " [-100.13694111929185, 18.65929018004776]]"
      ]
     },
     "execution_count": 23,
     "metadata": {},
     "output_type": "execute_result"
    }
   ],
   "source": [
    "bbox_xy = [[coord[1], coord[0]] for coord in bbox_yxz]\n",
    "bbox_xy = [bbox_xy[k] for k in [0, 1, 3, 2]]\n",
    "bbox_xy"
   ]
  },
  {
   "cell_type": "code",
   "execution_count": 24,
   "metadata": {},
   "outputs": [
    {
     "data": {
      "image/svg+xml": [
       "<svg xmlns=\"http://www.w3.org/2000/svg\" xmlns:xlink=\"http://www.w3.org/1999/xlink\" width=\"100.0\" height=\"100.0\" viewBox=\"-100.29532645995943 17.91059720135854 4.276404198024693 4.089058739619226\" preserveAspectRatio=\"xMinYMin meet\"><g transform=\"matrix(1,0,0,-1,0,39.91025314233631)\"><path fill-rule=\"evenodd\" fill=\"#66cc99\" stroke=\"#555555\" stroke-width=\"0.08552808396049386\" opacity=\"0.6\" d=\"M -99.54163571839928,21.841270600310185 L -96.17730760260231,21.25939696689257 L -96.843173553836,18.068982542026124 L -100.13694111929185,18.65929018004776 L -99.54163571839928,21.841270600310185 z\" /></g></svg>"
      ],
      "text/plain": [
       "<shapely.geometry.polygon.Polygon at 0x7f0b63fe8df0>"
      ]
     },
     "execution_count": 24,
     "metadata": {},
     "output_type": "execute_result"
    }
   ],
   "source": [
    "poly = Polygon(bbox_xy)\n",
    "poly"
   ]
  },
  {
   "cell_type": "code",
   "execution_count": 25,
   "metadata": {},
   "outputs": [
    {
     "data": {
      "text/plain": [
       "(-100.13694111929185,\n",
       " 18.068982542026124,\n",
       " -96.17730760260231,\n",
       " 21.841270600310185)"
      ]
     },
     "execution_count": 25,
     "metadata": {},
     "output_type": "execute_result"
    }
   ],
   "source": [
    "poly.bounds"
   ]
  },
  {
   "cell_type": "code",
   "execution_count": 26,
   "metadata": {},
   "outputs": [
    {
     "data": {
      "text/plain": [
       "{'type': 'Polygon',\n",
       " 'coordinates': (((-99.54163571839928, 21.841270600310185),\n",
       "   (-96.17730760260231, 21.25939696689257),\n",
       "   (-96.843173553836, 18.068982542026124),\n",
       "   (-100.13694111929185, 18.65929018004776),\n",
       "   (-99.54163571839928, 21.841270600310185)),)}"
      ]
     },
     "execution_count": 26,
     "metadata": {},
     "output_type": "execute_result"
    }
   ],
   "source": [
    "poly.__geo_interface__"
   ]
  },
  {
   "cell_type": "code",
   "execution_count": 27,
   "metadata": {},
   "outputs": [
    {
     "data": {
      "text/plain": [
       "'IMG-HH-ALOS2047853215-150412-WBDR1.1__D-F1'"
      ]
     },
     "execution_count": 27,
     "metadata": {},
     "output_type": "execute_result"
    }
   ],
   "source": [
    "reference_imgs[0].name"
   ]
  },
  {
   "cell_type": "markdown",
   "metadata": {},
   "source": [
    "# Wrapping the ISCE Routines Up and Formatting into Dictionary"
   ]
  },
  {
   "cell_type": "code",
   "execution_count": 28,
   "metadata": {},
   "outputs": [],
   "source": [
    "def get_slc_metadata(slc_img_name_path):\n",
    "    \n",
    "    tokens = slc_img_name_path.name.split('-')\n",
    "    slc_id = '-'.join(tokens[2:4])\n",
    "    production_level = tokens[4].split('.')[0]\n",
    "\n",
    "    # only needs the name of the file not the path\n",
    "    track = get_alos2_track_obj(slc_img_name_path.name)\n",
    "    bbox_yxz, sensingStart, sensingEnd = get_bbox_data_from_ISCE(track)\n",
    "    \n",
    "    data = {}\n",
    "    \n",
    "    data['slc_id'] = slc_id\n",
    "    data['production_level'] = production_level\n",
    "    \n",
    "    bbox_xy = [[coord[1], coord[0]] for coord in bbox_yxz]\n",
    "    bbox_xy = [bbox_xy[k] for k in [0, 1, 3, 2]]\n",
    "    data['bbox_xy_coords'] = bbox_xy\n",
    "    \n",
    "    data['start_time'] = sensingStart.strftime(\"%Y-%m-%dT%H:%M:%S.%f\")\n",
    "    data['stop_time'] = sensingEnd.strftime(\"%Y-%m-%dT%H:%M:%S.%f\")\n",
    "    data['absolute_orbit'] = track.orbitNumber\n",
    "    data['frame'] = track.frameNumber\n",
    "    data['flight_direction'] = 'A' if 'ascending' == track.catalog['passdirection'] else 'D'\n",
    "    data['satellite_name'] = track.spacecraftName\n",
    "    data['source'] = \"isce_preprocessing\"\n",
    "    \n",
    "    # See: https://github.com/aria-jpl/ariamh\n",
    "    #/blob/ddf752080a7c614ef99ea3be880506105965699c/frameMetadata/FrameInfoExtractor.py#L155\n",
    "    track_number = (14 * int(track.orbitNumber) + 24) % 207\n",
    "    data['track'] = track_number\n",
    "    \n",
    "    return data"
   ]
  },
  {
   "cell_type": "code",
   "execution_count": 29,
   "metadata": {},
   "outputs": [
    {
     "data": {
      "text/plain": [
       "PosixPath('ALOS2047853200-150412/IMG-HH-ALOS2047853215-150412-WBDR1.1__D-F1')"
      ]
     },
     "execution_count": 29,
     "metadata": {},
     "output_type": "execute_result"
    }
   ],
   "source": [
    "reference_imgs[0]"
   ]
  },
  {
   "cell_type": "code",
   "execution_count": 30,
   "metadata": {},
   "outputs": [
    {
     "data": {
      "text/plain": [
       "{'slc_id': 'ALOS2047853215-150412',\n",
       " 'production_level': 'WBDR1',\n",
       " 'bbox_xy_coords': [[-99.54163571839928, 21.841270600310185],\n",
       "  [-96.17730760260231, 21.25939696689257],\n",
       "  [-96.843173553836, 18.068982542026124],\n",
       "  [-100.13694111929185, 18.65929018004776]],\n",
       " 'start_time': '2015-04-12T18:26:03.683087',\n",
       " 'stop_time': '2015-04-12T18:26:55.705525',\n",
       " 'absolute_orbit': '04785',\n",
       " 'frame': '3215',\n",
       " 'flight_direction': 'D',\n",
       " 'satellite_name': 'ALOS2',\n",
       " 'source': 'isce_preprocessing',\n",
       " 'track': 153}"
      ]
     },
     "execution_count": 30,
     "metadata": {},
     "output_type": "execute_result"
    }
   ],
   "source": [
    "reference_md = get_slc_metadata(reference_imgs[0])\n",
    "reference_md"
   ]
  },
  {
   "cell_type": "code",
   "execution_count": 31,
   "metadata": {},
   "outputs": [
    {
     "data": {
      "text/plain": [
       "{'slc_id': 'ALOS2041643215-150301',\n",
       " 'production_level': 'WBDR1',\n",
       " 'bbox_xy_coords': [[-99.54225234548686, 21.84242172762871],\n",
       "  [-96.17777138358394, 21.260454461136113],\n",
       "  [-96.84383040237188, 18.07008971011115],\n",
       "  [-100.13767953028737, 18.660475516270562]],\n",
       " 'start_time': '2015-03-01T18:26:06.130416',\n",
       " 'stop_time': '2015-03-01T18:26:58.152714',\n",
       " 'absolute_orbit': '04164',\n",
       " 'frame': '3215',\n",
       " 'flight_direction': 'D',\n",
       " 'satellite_name': 'ALOS2',\n",
       " 'source': 'isce_preprocessing',\n",
       " 'track': 153}"
      ]
     },
     "execution_count": 31,
     "metadata": {},
     "output_type": "execute_result"
    }
   ],
   "source": [
    "secondary_md = get_slc_metadata(secondary_imgs[0])\n",
    "secondary_md"
   ]
  },
  {
   "cell_type": "code",
   "execution_count": 32,
   "metadata": {},
   "outputs": [
    {
     "data": {
      "text/plain": [
       "'2015-03-01 18:26:58.152714'"
      ]
     },
     "execution_count": 32,
     "metadata": {},
     "output_type": "execute_result"
    }
   ],
   "source": [
    "str(dateparser.parse('2015-03-01T18:26:58.152714'))"
   ]
  },
  {
   "cell_type": "code",
   "execution_count": 33,
   "metadata": {},
   "outputs": [],
   "source": [
    "def get_center_time(t1, t2):\n",
    "    # Dateparser.parse reads any datetime\n",
    "    a = dateparser.parse(t1)\n",
    "    b = dateparser.parse(t2)\n",
    "    center_datetime = a + (b - a)/2\n",
    "    return center_datetime\n",
    "\n",
    "def get_hash(reference_slc_id, secondary_slc_id):\n",
    "    slc_str = (reference_slc_id + secondary_slc_id).encode(\"utf8\")\n",
    "    id_hash = hashlib.md5(slc_str)\n",
    "    id_hash = id_hash.hexdigest()\n",
    "    return id_hash\n",
    "\n",
    "\n",
    "def ifg_cfg_md(reference_md, secondary_md, context):\n",
    "    ifg_data = {'reference_metadata': reference_md,\n",
    "                'secondary_metadata': secondary_md\n",
    "               }\n",
    "    \n",
    "    ifg_data['full_ifg_hash'] = get_hash(reference_md['slc_id'],\n",
    "                                         secondary_md['slc_id'])\n",
    "    ifg_data['dem_type'] = ctx['dem_type']\n",
    "    ifg_data['reference_slc'] = reference_md['slc_id']\n",
    "    ifg_data['secondary_slc'] = secondary_md['slc_id']\n",
    "    ifg_data[\"interferogram_type\"] = context['ifg_type']\n",
    "    ifg_data[\"azimuth_looks\"] = int(context['azimuth_looks'])\n",
    "    ifg_data[\"range_looks\"] = int(context['range_looks'])\n",
    "    ifg_data[\"burst_overlap\"] = float(context['burst_overlap'])\n",
    "    ifg_data[\"filter_strength\"] = float(context['filter_strength'])\n",
    "    \n",
    "    ifg_data[\"polarization\"] = 'HH'\n",
    "    ifg_data['sensing_start_time'] = reference_md['start_time']\n",
    "    ifg_data['sensing_stop_time'] = reference_md['stop_time']\n",
    "    \n",
    "    acq_center_time = get_center_time(reference_md['start_time'], \n",
    "                                      reference_md['stop_time'])\n",
    "    ifg_data['sensing_center_time'] = (acq_center_time).strftime(\"%H%M%S\")\n",
    "    ref_dt = dateparser.parse(reference_md['start_time']).date()\n",
    "    sec_dt = dateparser.parse(secondary_md['start_time']).date()\n",
    "    \n",
    "    ifg_data['reference_date'] = str(ref_dt)\n",
    "    ifg_data['secondary_date'] = str(sec_dt)\n",
    "    ifg_data['flight_direction'] = reference_md['flight_direction']\n",
    "    ifg_data['track'] = reference_md['track']\n",
    "    \n",
    "    return ifg_data"
   ]
  },
  {
   "cell_type": "code",
   "execution_count": 34,
   "metadata": {},
   "outputs": [
    {
     "data": {
      "text/plain": [
       "{'reference_metadata': {'slc_id': 'ALOS2047853215-150412',\n",
       "  'production_level': 'WBDR1',\n",
       "  'bbox_xy_coords': [[-99.54163571839928, 21.841270600310185],\n",
       "   [-96.17730760260231, 21.25939696689257],\n",
       "   [-96.843173553836, 18.068982542026124],\n",
       "   [-100.13694111929185, 18.65929018004776]],\n",
       "  'start_time': '2015-04-12T18:26:03.683087',\n",
       "  'stop_time': '2015-04-12T18:26:55.705525',\n",
       "  'absolute_orbit': '04785',\n",
       "  'frame': '3215',\n",
       "  'flight_direction': 'D',\n",
       "  'satellite_name': 'ALOS2',\n",
       "  'source': 'isce_preprocessing',\n",
       "  'track': 153},\n",
       " 'secondary_metadata': {'slc_id': 'ALOS2041643215-150301',\n",
       "  'production_level': 'WBDR1',\n",
       "  'bbox_xy_coords': [[-99.54225234548686, 21.84242172762871],\n",
       "   [-96.17777138358394, 21.260454461136113],\n",
       "   [-96.84383040237188, 18.07008971011115],\n",
       "   [-100.13767953028737, 18.660475516270562]],\n",
       "  'start_time': '2015-03-01T18:26:06.130416',\n",
       "  'stop_time': '2015-03-01T18:26:58.152714',\n",
       "  'absolute_orbit': '04164',\n",
       "  'frame': '3215',\n",
       "  'flight_direction': 'D',\n",
       "  'satellite_name': 'ALOS2',\n",
       "  'source': 'isce_preprocessing',\n",
       "  'track': 153},\n",
       " 'full_ifg_hash': '4db226c12c7e137f7785cbd24b073317',\n",
       " 'dem_type': 'SRTM+v3',\n",
       " 'reference_slc': 'ALOS2047853215-150412',\n",
       " 'secondary_slc': 'ALOS2041643215-150301',\n",
       " 'interferogram_type': 'scansar',\n",
       " 'azimuth_looks': 12,\n",
       " 'range_looks': 30,\n",
       " 'burst_overlap': 85.0,\n",
       " 'filter_strength': 0.6,\n",
       " 'polarization': 'HH',\n",
       " 'sensing_start_time': '2015-04-12T18:26:03.683087',\n",
       " 'sensing_stop_time': '2015-04-12T18:26:55.705525',\n",
       " 'sensing_center_time': '182629',\n",
       " 'reference_date': '2015-04-12',\n",
       " 'secondary_date': '2015-03-01',\n",
       " 'flight_direction': 'D',\n",
       " 'track': 153}"
      ]
     },
     "execution_count": 34,
     "metadata": {},
     "output_type": "execute_result"
    }
   ],
   "source": [
    "ifg_md = ifg_cfg_md(reference_md, \n",
    "                    secondary_md, \n",
    "                    ctx)\n",
    "ifg_md"
   ]
  },
  {
   "cell_type": "markdown",
   "metadata": {},
   "source": [
    "## Updating the Metadata with Intersection and Unions"
   ]
  },
  {
   "cell_type": "code",
   "execution_count": 35,
   "metadata": {},
   "outputs": [],
   "source": [
    "def update_ifg_metadata_with_bbox_data(ifg_data: dict) -> dict:\n",
    "    \n",
    "    reference_bbox_coords = ifg_data['reference_metadata']['bbox_xy_coords']\n",
    "    secondary_bbox_coords = ifg_data['secondary_metadata']['bbox_xy_coords']\n",
    "    \n",
    "    reference_poly = Polygon(reference_bbox_coords)\n",
    "    secondary_poly = Polygon(secondary_bbox_coords)\n",
    "    \n",
    "    intersection_geo = reference_poly.intersection(secondary_poly)\n",
    "    if intersection_geo.is_empty:\n",
    "        raise ValueError('There is no overlap between SLCs')\n",
    "    \n",
    "    union_geo = reference_poly.union(secondary_poly)\n",
    "    \n",
    "    ifg_data['union_geojson'] = union_geo.__geo_interface__\n",
    "    ifg_data['intersection_geojson'] = intersection_geo.__geo_interface__\n",
    "    \n",
    "    # xmin, ymin, xmax, ymax\n",
    "    ifg_data['bounds'] = list(union_geo.bounds)\n",
    "    \n",
    "    # Get Latitude string\n",
    "    lon = ifg_md['bounds'][0]\n",
    "    lat = ifg_md['bounds'][1]\n",
    "    ifg_data['longitude_string'] = f\"{abs(lon):1.0f}{'W' if lon < 0 else 'E'}\"\n",
    "    ifg_data['latitude_string'] = f\"{abs(lat):1.0f}{'N' if lat > 0 else 'S'}\"\n",
    "    return ifg_data"
   ]
  },
  {
   "cell_type": "code",
   "execution_count": 36,
   "metadata": {},
   "outputs": [
    {
     "data": {
      "text/plain": [
       "{'reference_metadata': {'slc_id': 'ALOS2047853215-150412',\n",
       "  'production_level': 'WBDR1',\n",
       "  'bbox_xy_coords': [[-99.54163571839928, 21.841270600310185],\n",
       "   [-96.17730760260231, 21.25939696689257],\n",
       "   [-96.843173553836, 18.068982542026124],\n",
       "   [-100.13694111929185, 18.65929018004776]],\n",
       "  'start_time': '2015-04-12T18:26:03.683087',\n",
       "  'stop_time': '2015-04-12T18:26:55.705525',\n",
       "  'absolute_orbit': '04785',\n",
       "  'frame': '3215',\n",
       "  'flight_direction': 'D',\n",
       "  'satellite_name': 'ALOS2',\n",
       "  'source': 'isce_preprocessing',\n",
       "  'track': 153},\n",
       " 'secondary_metadata': {'slc_id': 'ALOS2041643215-150301',\n",
       "  'production_level': 'WBDR1',\n",
       "  'bbox_xy_coords': [[-99.54225234548686, 21.84242172762871],\n",
       "   [-96.17777138358394, 21.260454461136113],\n",
       "   [-96.84383040237188, 18.07008971011115],\n",
       "   [-100.13767953028737, 18.660475516270562]],\n",
       "  'start_time': '2015-03-01T18:26:06.130416',\n",
       "  'stop_time': '2015-03-01T18:26:58.152714',\n",
       "  'absolute_orbit': '04164',\n",
       "  'frame': '3215',\n",
       "  'flight_direction': 'D',\n",
       "  'satellite_name': 'ALOS2',\n",
       "  'source': 'isce_preprocessing',\n",
       "  'track': 153},\n",
       " 'full_ifg_hash': '4db226c12c7e137f7785cbd24b073317',\n",
       " 'dem_type': 'SRTM+v3',\n",
       " 'reference_slc': 'ALOS2047853215-150412',\n",
       " 'secondary_slc': 'ALOS2041643215-150301',\n",
       " 'interferogram_type': 'scansar',\n",
       " 'azimuth_looks': 12,\n",
       " 'range_looks': 30,\n",
       " 'burst_overlap': 85.0,\n",
       " 'filter_strength': 0.6,\n",
       " 'polarization': 'HH',\n",
       " 'sensing_start_time': '2015-04-12T18:26:03.683087',\n",
       " 'sensing_stop_time': '2015-04-12T18:26:55.705525',\n",
       " 'sensing_center_time': '182629',\n",
       " 'reference_date': '2015-04-12',\n",
       " 'secondary_date': '2015-03-01',\n",
       " 'flight_direction': 'D',\n",
       " 'track': 153,\n",
       " 'union_geojson': {'type': 'Polygon',\n",
       "  'coordinates': (((-96.17796830232892, 21.259511237480126),\n",
       "    (-96.17730760260231, 21.25939696689257),\n",
       "    (-96.843173553836, 18.068982542026124),\n",
       "    (-100.13694111929185, 18.65929018004776),\n",
       "    (-100.13675051187933, 18.66030900005793),\n",
       "    (-100.13767953028737, 18.660475516270562),\n",
       "    (-99.54225234548686, 21.84242172762871),\n",
       "    (-96.17777138358394, 21.260454461136113),\n",
       "    (-96.17796830232892, 21.259511237480126)),)},\n",
       " 'intersection_geojson': {'type': 'Polygon',\n",
       "  'coordinates': (((-99.54163571839928, 21.841270600310185),\n",
       "    (-96.17796830232892, 21.259511237480126),\n",
       "    (-96.84383040237188, 18.07008971011115),\n",
       "    (-100.13675051187933, 18.66030900005793),\n",
       "    (-99.54163571839928, 21.841270600310185)),)},\n",
       " 'bounds': [-100.13767953028737,\n",
       "  18.068982542026124,\n",
       "  -96.17730760260231,\n",
       "  21.84242172762871],\n",
       " 'longitude_string': '100W',\n",
       " 'latitude_string': '18N'}"
      ]
     },
     "execution_count": 36,
     "metadata": {},
     "output_type": "execute_result"
    }
   ],
   "source": [
    "update_ifg_metadata_with_bbox_data(ifg_md)"
   ]
  },
  {
   "cell_type": "code",
   "execution_count": 37,
   "metadata": {},
   "outputs": [],
   "source": [
    "json.dump(ifg_md['intersection_geojson'],\n",
    "          open('intersection.geojson', 'w'),\n",
    "          indent=2)\n",
    "\n",
    "json.dump(ifg_md['union_geojson'],\n",
    "          open('union.geojson', 'w'),\n",
    "          indent=2)"
   ]
  },
  {
   "cell_type": "code",
   "execution_count": 38,
   "metadata": {},
   "outputs": [],
   "source": [
    "json.dump(box(*ifg_md['bounds']).__geo_interface__,\n",
    "          open('bounds.geojson', 'w'),\n",
    "          indent=2)"
   ]
  },
  {
   "cell_type": "markdown",
   "metadata": {},
   "source": [
    "# Save Metadata\n",
    "\n",
    "## Get Product ID and Make Product Directory"
   ]
  },
  {
   "cell_type": "code",
   "execution_count": 39,
   "metadata": {},
   "outputs": [
    {
     "data": {
      "text/plain": [
       "['D', '153', '20150412', '20150301', '182629', '18N', '100W', 'v1_0_0']"
      ]
     },
     "execution_count": 39,
     "metadata": {},
     "output_type": "execute_result"
    }
   ],
   "source": [
    "keys = ['flight_direction',\n",
    "        'track',\n",
    "        'reference_date',\n",
    "        'secondary_date',\n",
    "        'sensing_center_time',\n",
    "        'latitude_string',\n",
    "        'longitude_string'\n",
    "        ]\n",
    "string_data = [str(ifg_md[key]) for key in keys]\n",
    "# remove '-' tokens\n",
    "string_data = list(map(lambda x: x.replace('-', ''), string_data))\n",
    "# include version\n",
    "string_data += [VERSION.replace('.','_')]\n",
    "string_data"
   ]
  },
  {
   "cell_type": "code",
   "execution_count": 40,
   "metadata": {},
   "outputs": [
    {
     "data": {
      "text/plain": [
       "'ALOS2-GUNW-D-153-20150412-20150301-182629-18N-100W-v1_0_0'"
      ]
     },
     "execution_count": 40,
     "metadata": {},
     "output_type": "execute_result"
    }
   ],
   "source": [
    "prod_id = 'ALOS2-GUNW-' + '-'.join(string_data)\n",
    "prod_id"
   ]
  },
  {
   "cell_type": "code",
   "execution_count": 41,
   "metadata": {},
   "outputs": [],
   "source": [
    "prod_dir_path = Path(prod_id)\n",
    "prod_dir_path.mkdir(exist_ok=True, parents=True)"
   ]
  },
  {
   "cell_type": "markdown",
   "metadata": {},
   "source": [
    "## Save `met.json` for HySDS\n",
    "\n",
    "This is just the ifg_data"
   ]
  },
  {
   "cell_type": "code",
   "execution_count": 42,
   "metadata": {},
   "outputs": [],
   "source": [
    "out_path = prod_dir_path/f'{prod_id}.met.json'\n",
    "json.dump(ifg_md,\n",
    "          open(out_path, 'w'),\n",
    "          indent=2)"
   ]
  },
  {
   "cell_type": "markdown",
   "metadata": {},
   "source": [
    "## Save `dataset.json` for HySDS\n"
   ]
  },
  {
   "cell_type": "code",
   "execution_count": 43,
   "metadata": {},
   "outputs": [
    {
     "data": {
      "text/plain": [
       "{'creation_timestamp': '2021-03-25T00:58:48.447865Z',\n",
       " 'version': 'v1.0.0',\n",
       " 'label': 'ALOS2-GUNW-D-153-20150412-20150301-182629-18N-100W-v1_0_0',\n",
       " 'location': {'type': 'Polygon',\n",
       "  'coordinates': (((-96.17796830232892, 21.259511237480126),\n",
       "    (-96.17730760260231, 21.25939696689257),\n",
       "    (-96.843173553836, 18.068982542026124),\n",
       "    (-100.13694111929185, 18.65929018004776),\n",
       "    (-100.13675051187933, 18.66030900005793),\n",
       "    (-100.13767953028737, 18.660475516270562),\n",
       "    (-99.54225234548686, 21.84242172762871),\n",
       "    (-96.17777138358394, 21.260454461136113),\n",
       "    (-96.17796830232892, 21.259511237480126)),)},\n",
       " 'starttime': '2015-04-12T18:26:03.683087',\n",
       " 'endtime': '2015-04-12T18:26:55.705525'}"
      ]
     },
     "execution_count": 43,
     "metadata": {},
     "output_type": "execute_result"
    }
   ],
   "source": [
    "# build dataset\n",
    "dataset = {'creation_timestamp': f'{datetime.datetime.utcnow().isoformat()}Z',\n",
    "           'version': VERSION,\n",
    "           'label': prod_id,\n",
    "           'location': ifg_md['union_geojson'],\n",
    "           'starttime': ifg_md['sensing_start_time'],\n",
    "           'endtime': ifg_md['sensing_stop_time']}\n",
    "dataset"
   ]
  },
  {
   "cell_type": "code",
   "execution_count": 44,
   "metadata": {},
   "outputs": [],
   "source": [
    "out_path = prod_dir_path/f'{prod_id}.dataset.json'\n",
    "json.dump(dataset,\n",
    "          open(out_path, 'w'),\n",
    "          indent=2)"
   ]
  }
 ],
 "metadata": {
  "kernelspec": {
   "display_name": "Python 3",
   "language": "python",
   "name": "python3"
  },
  "language_info": {
   "codemirror_mode": {
    "name": "ipython",
    "version": 3
   },
   "file_extension": ".py",
   "mimetype": "text/x-python",
   "name": "python",
   "nbconvert_exporter": "python",
   "pygments_lexer": "ipython3",
   "version": "3.8.3"
  }
 },
 "nbformat": 4,
 "nbformat_minor": 4
}
