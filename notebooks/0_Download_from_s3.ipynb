{
 "cells": [
  {
   "cell_type": "code",
   "execution_count": 23,
   "metadata": {},
   "outputs": [],
   "source": [
    "import boto3\n",
    "from tqdm import tqdm"
   ]
  },
  {
   "cell_type": "markdown",
   "metadata": {},
   "source": [
    "First I had to use [this repo](https://github.jpl.nasa.gov/cloud/Access-Key-Generation) to gain an AWS key pair. With this, I can download the large files from the bucket"
   ]
  },
  {
   "cell_type": "code",
   "execution_count": 32,
   "metadata": {},
   "outputs": [],
   "source": [
    "bucket = 'aria-dev-isl-fwd-torresal'\n",
    "key_0 = 'ALOS2_SLC/WD1/20150301/ALOS2041643200-150301.zip'\n",
    "key_1 = 'ALOS2_SLC/WD1/20150412/ALOS2047853200-150412.zip'\n",
    "\n",
    "local_path_0 = key_0.split('/')[-1]\n",
    "local_path_1 = key_1.split('/')[-1]\n",
    "\n",
    "session = boto3.session.Session(profile_name='saml-pub')\n",
    "s3 = boto3.resource('s3')"
   ]
  },
  {
   "cell_type": "markdown",
   "metadata": {},
   "source": [
    "source: https://stackoverflow.com/questions/56566785/how-to-use-boto3-to-retrieve-s3-file-size"
   ]
  },
  {
   "cell_type": "code",
   "execution_count": 33,
   "metadata": {},
   "outputs": [
    {
     "data": {
      "text/plain": [
       "55.691018745383"
      ]
     },
     "execution_count": 33,
     "metadata": {},
     "output_type": "execute_result"
    }
   ],
   "source": [
    "client = session.client('s3')\n",
    "response = client.head_object(Bucket=bucket,\n",
    "                              Key=key_0)\n",
    "\n",
    "total_bytes_0 = response['ContentLength']\n",
    "total_bytes_0 * 9.31e-10"
   ]
  },
  {
   "cell_type": "code",
   "execution_count": 34,
   "metadata": {},
   "outputs": [
    {
     "data": {
      "text/plain": [
       "55.691018608526"
      ]
     },
     "execution_count": 34,
     "metadata": {},
     "output_type": "execute_result"
    }
   ],
   "source": [
    "client = session.client('s3')\n",
    "response = client.head_object(Bucket=bucket,\n",
    "                              Key=key_1)\n",
    "\n",
    "total_bytes_1 = response['ContentLength']\n",
    "total_bytes_1 * 9.31e-10"
   ]
  },
  {
   "cell_type": "markdown",
   "metadata": {},
   "source": [
    "Source: https://github.com/tqdm/tqdm/issues/89"
   ]
  },
  {
   "cell_type": "code",
   "execution_count": 35,
   "metadata": {},
   "outputs": [],
   "source": [
    "def my_hook(t):\n",
    "    \"\"\"\n",
    "    Wraps tqdm instance. Don't forget to close() or __exit__()\n",
    "    the tqdm instance once you're done with it (easiest using `with` syntax).\n",
    "    \"\"\"\n",
    "    last_b = [0]\n",
    "\n",
    "    def inner(b=1, tsize=None, bsize=1):\n",
    "        \"\"\"\n",
    "        b  : int, optional\n",
    "            Number of blocks just transferred [default: 1].\n",
    "        tsize  : int, optional\n",
    "            Total size (in tqdm units). If [default: None] remains unchanged.\n",
    "        bsize  : int, optional\n",
    "            Size of each block (in tqdm units) [default: 1].\n",
    "        \"\"\"\n",
    "        if tsize is not None:\n",
    "            t.total = tsize\n",
    "        t.update((b - last_b[0]) * bsize)\n",
    "        last_b[0] = b\n",
    "    return inner"
   ]
  },
  {
   "cell_type": "code",
   "execution_count": 39,
   "metadata": {},
   "outputs": [
    {
     "name": "stderr",
     "output_type": "stream",
     "text": [
      "ALOS2041643200-150301.zip: 100%|██████████| 59.8G/59.8G [05:05<00:00, 196MB/s]    \n"
     ]
    }
   ],
   "source": [
    "with tqdm(total=total_bytes_0, unit='B', unit_scale=True, desc=FILE_NAME) as t:\n",
    "    client.download_fileobj(bucket, key_0, open(local_path_0, 'wb'), Callback=hook(t))"
   ]
  },
  {
   "cell_type": "code",
   "execution_count": 40,
   "metadata": {},
   "outputs": [
    {
     "name": "stderr",
     "output_type": "stream",
     "text": [
      "ALOS2041643200-150301.zip: 100%|██████████| 59.8G/59.8G [06:46<00:00, 147MB/s]    \n"
     ]
    }
   ],
   "source": [
    "with tqdm(total=total_bytes_1, unit='B', unit_scale=True, desc=FILE_NAME) as t:\n",
    "    client.download_fileobj(bucket, key_1, open(local_path_1, 'wb'), Callback=hook(t))"
   ]
  }
 ],
 "metadata": {
  "kernelspec": {
   "display_name": "Python 3",
   "language": "python",
   "name": "python3"
  },
  "language_info": {
   "codemirror_mode": {
    "name": "ipython",
    "version": 3
   },
   "file_extension": ".py",
   "mimetype": "text/x-python",
   "name": "python",
   "nbconvert_exporter": "python",
   "pygments_lexer": "ipython3",
   "version": "3.8.3"
  }
 },
 "nbformat": 4,
 "nbformat_minor": 4
}
